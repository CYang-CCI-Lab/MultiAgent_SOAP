{
 "cells": [
  {
   "cell_type": "code",
   "execution_count": 33,
   "metadata": {},
   "outputs": [
    {
     "name": "stdout",
     "output_type": "stream",
     "text": [
      "Error in line 1\n",
      "13\n",
      "Error in line 4\n",
      "16\n",
      "Error in line 17\n",
      "29\n",
      "Error in line 18\n",
      "30\n",
      "Error in line 37\n",
      "49\n",
      "Error in line 46\n",
      "58\n",
      "Error in line 60\n",
      "72\n",
      "Error in line 67\n",
      "79\n",
      "Error in line 73\n",
      "85\n",
      "Error in line 75\n",
      "87\n",
      "Error in line 76\n",
      "88\n",
      "Error in line 96\n",
      "108\n",
      "Error in line 97\n",
      "109\n",
      "Error in line 98\n",
      "110\n",
      "Error in line 102\n",
      "114\n",
      "Error in line 104\n",
      "116\n",
      "Error in line 105\n",
      "117\n"
     ]
    }
   ],
   "source": [
    "import json\n",
    "missing_qn = []\n",
    "# Replace 'your_file.json' with the path to your JSON file\n",
    "with open('/home/yl3427/cylab/SOAP_MA/Output/MedicalQA/step1_final_from11.json', 'r') as file:\n",
    "    data = json.load(file)\n",
    "\n",
    "for idx, item in enumerate(data):\n",
    "    try:\n",
    "        question = item['Question']\n",
    "    except:\n",
    "        print(\"Error in line\", idx)\n",
    "        print(item['qn_num'])\n",
    "        missing_qn.append(item['qn_num'])"
   ]
  },
  {
   "cell_type": "code",
   "execution_count": 34,
   "metadata": {},
   "outputs": [
    {
     "data": {
      "text/plain": [
       "[13, 16, 29, 30, 49, 58, 72, 79, 85, 87, 88, 108, 109, 110, 114, 116, 117]"
      ]
     },
     "execution_count": 34,
     "metadata": {},
     "output_type": "execute_result"
    }
   ],
   "source": [
    "missing_qn"
   ]
  },
  {
   "cell_type": "code",
   "execution_count": 31,
   "metadata": {},
   "outputs": [
    {
     "data": {
      "text/plain": [
       "11"
      ]
     },
     "execution_count": 31,
     "metadata": {},
     "output_type": "execute_result"
    }
   ],
   "source": [
    "len(data)"
   ]
  },
  {
   "cell_type": "code",
   "execution_count": 8,
   "metadata": {},
   "outputs": [
    {
     "data": {
      "text/plain": [
       "'sample_data_with_baseline.json'"
      ]
     },
     "execution_count": 8,
     "metadata": {},
     "output_type": "execute_result"
    }
   ],
   "source": [
    "input_json_path = \"sample_data.json\"\n",
    "f\"{input_json_path.split('.')[0]}_with_baseline.json\"\n"
   ]
  },
  {
   "cell_type": "code",
   "execution_count": 4,
   "metadata": {},
   "outputs": [
    {
     "data": {
      "text/plain": [
       "137"
      ]
     },
     "execution_count": 4,
     "metadata": {},
     "output_type": "execute_result"
    }
   ],
   "source": [
    "import pandas as pd\n",
    "df = pd.read_csv(\"/home/yl3427/cylab/llm_reasoning/reasoning/data/step3_ALL.csv\")\n",
    "len(df)"
   ]
  },
  {
   "cell_type": "code",
   "execution_count": 4,
   "metadata": {},
   "outputs": [
    {
     "data": {
      "text/plain": [
       "['sample_data', 'json']"
      ]
     },
     "execution_count": 4,
     "metadata": {},
     "output_type": "execute_result"
    }
   ],
   "source": [
    "input_json_path.split(\".\")"
   ]
  },
  {
   "cell_type": "code",
   "execution_count": null,
   "metadata": {},
   "outputs": [
    {
     "name": "stdout",
     "output_type": "stream",
     "text": [
      "Merged 11 items from file1 and 108 items from file2\n",
      "Final list contains 119 items\n",
      "Merged file saved as: /home/yl3427/cylab/SOAP_MA/Output/MedicalQA/step1_merged_missing.json\n"
     ]
    }
   ],
   "source": [
    "# merdge two json files\n",
    "\n",
    "import json\n",
    "import copy\n",
    "import os\n",
    "\n",
    "def deep_merge(dict1, dict2):\n",
    "    \"\"\"\n",
    "    Recursively merge dict2 into dict1.\n",
    "    - If a key exists in both dicts and both values are themselves dicts, \n",
    "      recurse into those.\n",
    "    - Otherwise, dict2’s value overwrites dict1’s value.\n",
    "    \"\"\"\n",
    "    for key, value in dict2.items():\n",
    "        if key not in dict1:\n",
    "            dict1[key] = value\n",
    "        else:\n",
    "            if isinstance(dict1[key], dict) and isinstance(value, dict):\n",
    "                deep_merge(dict1[key], value)\n",
    "            else:\n",
    "                # Overwrite dict1's value with dict2's value\n",
    "                dict1[key] = value\n",
    "    return dict1\n",
    "\n",
    "def merge_json_files(file1, file2, output_file):\n",
    "    # 1) Load both JSON files\n",
    "    with open(file1, \"r\", encoding=\"utf-8\") as f:\n",
    "        data1 = json.load(f)  # List of dicts\n",
    "    with open(file2, \"r\", encoding=\"utf-8\") as f:\n",
    "        data2 = json.load(f)  # List of dicts\n",
    "\n",
    "    # 2) Convert the first list into a dictionary keyed by \"qn_num\"\n",
    "    merged_dict = {}\n",
    "    for item in data1:\n",
    "        qn_num = item[\"qn_num\"]\n",
    "        merged_dict[qn_num] = copy.deepcopy(item)  # Use copy if you want to avoid mutating the original\n",
    "\n",
    "    # 3) For each item in data2, either add or merge\n",
    "    for item in data2:\n",
    "        qn_num = item[\"qn_num\"]\n",
    "        if qn_num not in merged_dict:\n",
    "            merged_dict[qn_num] = copy.deepcopy(item)\n",
    "        else:\n",
    "            # deep-merge fields from item into existing\n",
    "            deep_merge(merged_dict[qn_num], item)\n",
    "\n",
    "    # 4) Convert the merged dictionary back to a list\n",
    "    final_list = list(merged_dict.values())\n",
    "    print(f\"Merged {len(data1)} items from file1 and {len(data2)} items from file2\")\n",
    "    print(f\"Final list contains {len(final_list)} items\")\n",
    "\n",
    "    # 5) Write to the output file\n",
    "    with open(output_file, \"w\", encoding=\"utf-8\") as f:\n",
    "        json.dump(final_list, f, indent=2, ensure_ascii=False)\n",
    "\n",
    "if __name__ == \"__main__\":\n",
    "    # Example usage:\n",
    "    file1 = \"/home/yl3427/cylab/SOAP_MA/Output/MedicalQA/step1_merged_missing.json\"\n",
    "    file2 = \"/home/yl3427/cylab/SOAP_MA/Output/MedicalQA/step1_final_missing.json\"\n",
    "    output_file = \"/home/yl3427/cylab/SOAP_MA/Output/MedicalQA/step1_merged.json\"\n",
    "\n",
    "    merge_json_files(file1, file2, output_file)\n",
    "    print(f\"Merged file saved as: {output_file}\")\n"
   ]
  }
 ],
 "metadata": {
  "kernelspec": {
   "display_name": "base",
   "language": "python",
   "name": "python3"
  },
  "language_info": {
   "codemirror_mode": {
    "name": "ipython",
    "version": 3
   },
   "file_extension": ".py",
   "mimetype": "text/x-python",
   "name": "python",
   "nbconvert_exporter": "python",
   "pygments_lexer": "ipython3",
   "version": "3.10.13"
  }
 },
 "nbformat": 4,
 "nbformat_minor": 2
}
