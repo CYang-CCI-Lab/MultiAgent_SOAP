{
 "cells": [
  {
   "cell_type": "code",
   "execution_count": 9,
   "metadata": {},
   "outputs": [],
   "source": [
    "import pandas as pd\n",
    "import pickle\n",
    "from src.prompt import *\n",
    "import pickle\n",
    "import ast\n",
    "import numpy as np\n",
    "from collections import defaultdict\n",
    "import re\n",
    "from typing import List, Dict, Optional"
   ]
  },
  {
   "cell_type": "code",
   "execution_count": null,
   "metadata": {},
   "outputs": [
    {
     "data": {
      "text/html": [
       "<div>\n",
       "<style scoped>\n",
       "    .dataframe tbody tr th:only-of-type {\n",
       "        vertical-align: middle;\n",
       "    }\n",
       "\n",
       "    .dataframe tbody tr th {\n",
       "        vertical-align: top;\n",
       "    }\n",
       "\n",
       "    .dataframe thead th {\n",
       "        text-align: right;\n",
       "    }\n",
       "</style>\n",
       "<table border=\"1\" class=\"dataframe\">\n",
       "  <thead>\n",
       "    <tr style=\"text-align: right;\">\n",
       "      <th></th>\n",
       "      <th>File ID</th>\n",
       "      <th>Assessment</th>\n",
       "      <th>Summary</th>\n",
       "      <th>Subjective</th>\n",
       "      <th>Objective</th>\n",
       "      <th>cleaned_expanded_Summary</th>\n",
       "      <th>terms</th>\n",
       "      <th>combined_summary</th>\n",
       "      <th>pred_sepsis</th>\n",
       "      <th>reasoning_sepsis</th>\n",
       "      <th>pred_acute kidney injury</th>\n",
       "      <th>reasoning_acute kidney injury</th>\n",
       "      <th>pred_pancreatitis</th>\n",
       "      <th>reasoning_pancreatitis</th>\n",
       "      <th>pred_gastrointestinal bleed</th>\n",
       "      <th>reasoning_gastrointestinal bleed</th>\n",
       "    </tr>\n",
       "  </thead>\n",
       "  <tbody>\n",
       "    <tr>\n",
       "      <th>0</th>\n",
       "      <td>101616.txt</td>\n",
       "      <td>67 y/o m cad s/[**initials (namepattern4) **] ...</td>\n",
       "      <td>lower gi bleed; hypotension; cad</td>\n",
       "      <td>colonoscopy - at [**2171-1-25**] 12:31 pm\\n- c...</td>\n",
       "      <td>last dose of antibiotics:\\ninfusions:\\nother i...</td>\n",
       "      <td>lower gastrointestinal bleed; hypotension; cor...</td>\n",
       "      <td>['lower gastrointestinal bleed', 'hypotension'...</td>\n",
       "      <td>lower gi bleed; hypotension; cadlower gastroin...</td>\n",
       "      <td>No</td>\n",
       "      <td>To determine if the patient has sepsis, we nee...</td>\n",
       "      <td>No</td>\n",
       "      <td>To determine if the patient has acute kidney i...</td>\n",
       "      <td>No</td>\n",
       "      <td>To determine if the patient has pancreatitis, ...</td>\n",
       "      <td>Yes</td>\n",
       "      <td>To determine if the patient has a gastrointest...</td>\n",
       "    </tr>\n",
       "    <tr>\n",
       "      <th>1</th>\n",
       "      <td>102486.txt</td>\n",
       "      <td>81f with h/o chronic eosinophilic lung disease...</td>\n",
       "      <td>pulmonary embolism; fever; hypotension; oligur...</td>\n",
       "      <td>pleuritic right chest pain\\n- patient started ...</td>\n",
       "      <td>last dose of antibiotics:\\nciprofloxacin - [**...</td>\n",
       "      <td>pulmonary embolism; fever; hypotension; oligur...</td>\n",
       "      <td>['pulmonary embolism', 'fever', 'hypotension',...</td>\n",
       "      <td>pulmonary embolism; fever; hypotension; oligur...</td>\n",
       "      <td>No</td>\n",
       "      <td>To determine if the patient has sepsis, we nee...</td>\n",
       "      <td>No</td>\n",
       "      <td>To determine if the patient has acute kidney i...</td>\n",
       "      <td>No</td>\n",
       "      <td>To determine if the patient has pancreatitis, ...</td>\n",
       "      <td>No</td>\n",
       "      <td>To determine if the patient has a gastrointest...</td>\n",
       "    </tr>\n",
       "    <tr>\n",
       "      <th>2</th>\n",
       "      <td>198989.txt</td>\n",
       "      <td>79 yo f w/ a h/o chf (ef of 20-30%), carotid s...</td>\n",
       "      <td>sepsis; altered/depressed ms\\n thought to be [...</td>\n",
       "      <td>- id: rec bedside echo\\n- continued fluid bolu...</td>\n",
       "      <td>last dose of antibiotics:\\nmetronidazole - [**...</td>\n",
       "      <td>sepsis; altered depressed mental status though...</td>\n",
       "      <td>['sepsis', 'altered depressed mental status th...</td>\n",
       "      <td>sepsis; altered/depressed ms\\n thought to be [...</td>\n",
       "      <td>Yes</td>\n",
       "      <td>To determine if the patient has sepsis, we nee...</td>\n",
       "      <td>No</td>\n",
       "      <td>To determine if the patient has acute kidney i...</td>\n",
       "      <td>No</td>\n",
       "      <td>To determine if the patient has pancreatitis, ...</td>\n",
       "      <td>No</td>\n",
       "      <td>To determine if the patient has a gastrointest...</td>\n",
       "    </tr>\n",
       "    <tr>\n",
       "      <th>3</th>\n",
       "      <td>100326.txt</td>\n",
       "      <td>[**age over 90 382**]f presents with history o...</td>\n",
       "      <td>shock- likely hypovolemic from gi bleed, but m...</td>\n",
       "      <td>multi lumen - start [**2159-8-12**] 01:36 pm\\n...</td>\n",
       "      <td>last dose of antibiotics:\\nmetronidazole - [**...</td>\n",
       "      <td>shock likely hypovolemic from gastrointestinal...</td>\n",
       "      <td>['shock likely hypovolemic from gastrointestin...</td>\n",
       "      <td>shock- likely hypovolemic from gi bleed, but m...</td>\n",
       "      <td>Yes</td>\n",
       "      <td>To determine if the patient has sepsis, we nee...</td>\n",
       "      <td>No</td>\n",
       "      <td>To determine if the patient has acute kidney i...</td>\n",
       "      <td>No</td>\n",
       "      <td>To determine if the patient has pancreatitis, ...</td>\n",
       "      <td>No</td>\n",
       "      <td>To determine if the patient has a gastrointest...</td>\n",
       "    </tr>\n",
       "    <tr>\n",
       "      <th>4</th>\n",
       "      <td>109934.txt</td>\n",
       "      <td>gastrointestinal bleed, lower (hematochezia, b...</td>\n",
       "      <td>gi bleed; anemia</td>\n",
       "      <td>150 cc blood in stool over night. transfused 3...</td>\n",
       "      <td>last dose of antibiotics:\\ninfusions:\\nother i...</td>\n",
       "      <td>gastrointestinal bleed; anemia</td>\n",
       "      <td>['gastrointestinal bleed', 'anemia']</td>\n",
       "      <td>gi bleed; anemiagastrointestinal bleed; anemia...</td>\n",
       "      <td>No</td>\n",
       "      <td>To determine if the patient has sepsis, we nee...</td>\n",
       "      <td>No</td>\n",
       "      <td>To determine if the patient has acute kidney i...</td>\n",
       "      <td>No</td>\n",
       "      <td>To determine whether the patient has pancreati...</td>\n",
       "      <td>NaN</td>\n",
       "      <td>NaN</td>\n",
       "    </tr>\n",
       "  </tbody>\n",
       "</table>\n",
       "</div>"
      ],
      "text/plain": [
       "      File ID                                         Assessment  \\\n",
       "0  101616.txt  67 y/o m cad s/[**initials (namepattern4) **] ...   \n",
       "1  102486.txt  81f with h/o chronic eosinophilic lung disease...   \n",
       "2  198989.txt  79 yo f w/ a h/o chf (ef of 20-30%), carotid s...   \n",
       "3  100326.txt  [**age over 90 382**]f presents with history o...   \n",
       "4  109934.txt  gastrointestinal bleed, lower (hematochezia, b...   \n",
       "\n",
       "                                             Summary  \\\n",
       "0                   lower gi bleed; hypotension; cad   \n",
       "1  pulmonary embolism; fever; hypotension; oligur...   \n",
       "2  sepsis; altered/depressed ms\\n thought to be [...   \n",
       "3  shock- likely hypovolemic from gi bleed, but m...   \n",
       "4                                   gi bleed; anemia   \n",
       "\n",
       "                                          Subjective  \\\n",
       "0  colonoscopy - at [**2171-1-25**] 12:31 pm\\n- c...   \n",
       "1  pleuritic right chest pain\\n- patient started ...   \n",
       "2  - id: rec bedside echo\\n- continued fluid bolu...   \n",
       "3  multi lumen - start [**2159-8-12**] 01:36 pm\\n...   \n",
       "4  150 cc blood in stool over night. transfused 3...   \n",
       "\n",
       "                                           Objective  \\\n",
       "0  last dose of antibiotics:\\ninfusions:\\nother i...   \n",
       "1  last dose of antibiotics:\\nciprofloxacin - [**...   \n",
       "2  last dose of antibiotics:\\nmetronidazole - [**...   \n",
       "3  last dose of antibiotics:\\nmetronidazole - [**...   \n",
       "4  last dose of antibiotics:\\ninfusions:\\nother i...   \n",
       "\n",
       "                            cleaned_expanded_Summary  \\\n",
       "0  lower gastrointestinal bleed; hypotension; cor...   \n",
       "1  pulmonary embolism; fever; hypotension; oligur...   \n",
       "2  sepsis; altered depressed mental status though...   \n",
       "3  shock likely hypovolemic from gastrointestinal...   \n",
       "4                     gastrointestinal bleed; anemia   \n",
       "\n",
       "                                               terms  \\\n",
       "0  ['lower gastrointestinal bleed', 'hypotension'...   \n",
       "1  ['pulmonary embolism', 'fever', 'hypotension',...   \n",
       "2  ['sepsis', 'altered depressed mental status th...   \n",
       "3  ['shock likely hypovolemic from gastrointestin...   \n",
       "4               ['gastrointestinal bleed', 'anemia']   \n",
       "\n",
       "                                    combined_summary pred_sepsis  \\\n",
       "0  lower gi bleed; hypotension; cadlower gastroin...          No   \n",
       "1  pulmonary embolism; fever; hypotension; oligur...          No   \n",
       "2  sepsis; altered/depressed ms\\n thought to be [...         Yes   \n",
       "3  shock- likely hypovolemic from gi bleed, but m...         Yes   \n",
       "4  gi bleed; anemiagastrointestinal bleed; anemia...          No   \n",
       "\n",
       "                                    reasoning_sepsis pred_acute kidney injury  \\\n",
       "0  To determine if the patient has sepsis, we nee...                       No   \n",
       "1  To determine if the patient has sepsis, we nee...                       No   \n",
       "2  To determine if the patient has sepsis, we nee...                       No   \n",
       "3  To determine if the patient has sepsis, we nee...                       No   \n",
       "4  To determine if the patient has sepsis, we nee...                       No   \n",
       "\n",
       "                       reasoning_acute kidney injury pred_pancreatitis  \\\n",
       "0  To determine if the patient has acute kidney i...                No   \n",
       "1  To determine if the patient has acute kidney i...                No   \n",
       "2  To determine if the patient has acute kidney i...                No   \n",
       "3  To determine if the patient has acute kidney i...                No   \n",
       "4  To determine if the patient has acute kidney i...                No   \n",
       "\n",
       "                              reasoning_pancreatitis  \\\n",
       "0  To determine if the patient has pancreatitis, ...   \n",
       "1  To determine if the patient has pancreatitis, ...   \n",
       "2  To determine if the patient has pancreatitis, ...   \n",
       "3  To determine if the patient has pancreatitis, ...   \n",
       "4  To determine whether the patient has pancreati...   \n",
       "\n",
       "  pred_gastrointestinal bleed  \\\n",
       "0                         Yes   \n",
       "1                          No   \n",
       "2                          No   \n",
       "3                          No   \n",
       "4                         NaN   \n",
       "\n",
       "                    reasoning_gastrointestinal bleed  \n",
       "0  To determine if the patient has a gastrointest...  \n",
       "1  To determine if the patient has a gastrointest...  \n",
       "2  To determine if the patient has a gastrointest...  \n",
       "3  To determine if the patient has a gastrointest...  \n",
       "4                                                NaN  "
      ]
     },
     "execution_count": 24,
     "metadata": {},
     "output_type": "execute_result"
    }
   ],
   "source": [
    "qa_df = pd.read_csv(\"/home/yl3427/cylab/SOAP_MA/MA_results/diag.csv\")\n",
    "# for i, row in qa_df.iterrows():\n",
    "#     print(row['question'])\n",
    "qa_df[]"
   ]
  },
  {
   "cell_type": "code",
   "execution_count": 2,
   "metadata": {},
   "outputs": [],
   "source": [
    "# mi = [\"myocardial infarction\", \"elevation mi\", \" NSTEMI\", \" stemi\"]\n",
    "# # \tSTEMI vs NSTEMI 감별\n",
    "# #   Type 1 MI vs Type 2 MI 감별\n",
    "\n",
    "# chf = [\"congestive heart failure\", \" chf\", \"HFrEF\", \"HFpEF\"]\n",
    "# # HFrEF(좌심실 수축기능 저하) vs HFpEF(정상좌심실수축기능/이완기부전)\n",
    "# # Acute decompensated HF vs Chronic stable HF\n",
    "\n",
    "# pulmonary_embolism = [\"pulmonary embolism\"] # good\n",
    "# # Massive vs Submassive vs Low-risk PE\n",
    "\n",
    "# pulmonary_hypertension = [\"pulmonary hypertension\", \"pulmonary htn\"]\n",
    "\n",
    "# sepsis = [\"sepsis\", \"septic shock\"] # -> urosepsis인가 아닌가\n",
    "# urosepsis = [\"urosepsis\"]\n",
    "\n",
    "# meningitis = [\"meningitis\"]\n",
    "\n",
    "# aki = [\"acute kidney injury\", \" aki\", \"acute renal failure\", \" arf\"] # -> Acute tubular necrosis (ATN)인가 아닌가\n",
    "# atn = [\"acute tubular necrosis\", \" atn\"]\n",
    "\n",
    "\n",
    "# pancreatitis = [\"pancreatitis\"] # good\n",
    "# gi_bleed = [\"gastrointestinal bleed\", \"gi bleed\"] # good\n",
    "# hepatitis = [\"hepatitis\", \" hep\"] # 간염\n",
    "\n",
    "# cholangitis = [\"cholangitis\"]\n",
    "# asp_pneumonia = [\"aspiration pneumonia\"]\n",
    "\n",
    "# prob_dict = {'myocardial infarction': mi, \n",
    "#                 'congestive heart failure': chf, \n",
    "#                 'pulmonary embolism': pulmonary_embolism, \n",
    "#                 'pulmonary hypertension': pulmonary_hypertension, \n",
    "#                 'sepsis': sepsis, \n",
    "#                 'urosepsis': urosepsis, \n",
    "#                 'meningitis': meningitis, \n",
    "#                 'acute kidney injury': aki, \n",
    "#                 'acute tubular necrosis': atn, \n",
    "#                 'pancreatitis': pancreatitis, \n",
    "#                 'gastrointestinal bleed': gi_bleed, \n",
    "#                 'hepatitis': hepatitis, \n",
    "#                 'cholangitis': cholangitis, \n",
    "#                 'aspiration pneumonia': asp_pneumonia}\n",
    "mi = [\"myocardial infarction\", \"elevation mi\", \"non-stemi\", \" NSTEMI\", \" stemi\"]\n",
    "chf = [\"congestive heart failure\", \" chf\", \"HFrEF\", \"HFpEF\"]\n",
    "pulmonary_embolism = [\"pulmonary embolism\"]\n",
    "pulmonary_hypertension = [\"pulmonary hypertension\", \"pulmonary htn\"]\n",
    "sepsis = [\"sepsis\", \"septic shock\"]\n",
    "urosepsis = [\"urosepsis\"]\n",
    "meningitis = [\"meningitis\"]\n",
    "aki = [\"acute kidney injury\", \" aki\", \"acute renal failure\", \" arf\"] # -> Acute tubular necrosis (ATN)인가 아닌가\n",
    "atn = [\"acute tubular necrosis\", \" atn\"]\n",
    "pancreatitis = [\"pancreatitis\"]\n",
    "gi_bleed = [\"gastrointestinal bleed\", \"gi bleed\"]\n",
    "hepatitis = [\"hepatitis\", \" hep\"]\n",
    "cholangitis = [\"cholangitis\"]\n",
    "asp_pneumonia = [\"aspiration pneumonia\"]\n",
    "prob_dict = {\n",
    "    'myocardial infarction': mi, \n",
    "    'congestive heart failure': chf, \n",
    "    'pulmonary embolism': pulmonary_embolism, \n",
    "    'pulmonary hypertension': pulmonary_hypertension, \n",
    "    'sepsis': sepsis, \n",
    "    'urosepsis': urosepsis, \n",
    "    'meningitis': meningitis, \n",
    "    'acute kidney injury': aki, \n",
    "    'acute tubular necrosis': atn, \n",
    "    'pancreatitis': pancreatitis, \n",
    "    'gastrointestinal bleed': gi_bleed, \n",
    "    'hepatitis': hepatitis, \n",
    "    'cholangitis': cholangitis, \n",
    "    'aspiration pneumonia': asp_pneumonia\n",
    "}"
   ]
  },
  {
   "cell_type": "code",
   "execution_count": 16,
   "metadata": {},
   "outputs": [
    {
     "data": {
      "text/plain": [
       "Index(['File ID', 'Assessment', 'Summary', 'Subjective', 'Objective',\n",
       "       'Summary_lemma', 'Summary_expanded', 'Summary_umls',\n",
       "       'Summary_lemma_umls', 'Summary_expanded_umls',\n",
       "       'cleaned_expanded_Summary', 'terms'],\n",
       "      dtype='object')"
      ]
     },
     "execution_count": 16,
     "metadata": {},
     "output_type": "execute_result"
    }
   ],
   "source": [
    "df = pd.read_csv('/home/yl3427/cylab/SOAP_MA/data/mergedBioNLP2023.csv')\n",
    "df.columns"
   ]
  },
  {
   "cell_type": "code",
   "execution_count": 17,
   "metadata": {},
   "outputs": [
    {
     "name": "stdout",
     "output_type": "stream",
     "text": [
      "myocardial infarction 48\n",
      "congestive heart failure 92\n",
      "pulmonary embolism 29\n",
      "pulmonary hypertension 7\n",
      "sepsis 110\n",
      "urosepsis 9\n",
      "meningitis 6\n",
      "acute kidney injury 129\n",
      "acute tubular necrosis 9\n",
      "pancreatitis 15\n",
      "gastrointestinal bleed 67\n",
      "hepatitis 30\n",
      "cholangitis 9\n",
      "aspiration pneumonia 15\n"
     ]
    }
   ],
   "source": [
    "import pandas as pd\n",
    "ids = set()\n",
    "for name, lst in prob_dict.items():\n",
    "    problem_terms = lst\n",
    "    problem_terms = [term.lower() for term in problem_terms]\n",
    "\n",
    "    df = pd.read_csv(\n",
    "        '/home/yl3427/cylab/SOAP_MA/data/mergedBioNLP2023.csv',\n",
    "        usecols=['File ID', 'Subjective', 'Objective', 'Summary', 'cleaned_expanded_Summary', 'terms']\n",
    "    )\n",
    "\n",
    "    df = df.fillna('').apply(lambda x: x.str.lower())\n",
    "\n",
    "    df['combined_summary'] = df['Summary'] + df['cleaned_expanded_Summary'] + df['terms']\n",
    "\n",
    "    # Use the first term as the primary term to check in the combined summary.\n",
    "    primary_term = problem_terms[0]\n",
    "\n",
    "    # Build a regex pattern that matches any of the problem terms.\n",
    "    pattern = '|'.join(problem_terms)\n",
    "\n",
    "    mask = (\n",
    "        df['combined_summary'].str.contains(pattern, na=False, regex=True) &\n",
    "        ~df['Subjective'].str.contains(pattern, na=False, regex=True) &\n",
    "        ~df['Objective'].str.contains(pattern, na=False, regex=True)\n",
    "    )\n",
    "\n",
    "    filtered_df = df[mask]\n",
    "    print(name, len(filtered_df))\n",
    "\n",
    "    ids.update(filtered_df['File ID'])"
   ]
  },
  {
   "cell_type": "code",
   "execution_count": 18,
   "metadata": {},
   "outputs": [
    {
     "data": {
      "text/plain": [
       "445"
      ]
     },
     "execution_count": 18,
     "metadata": {},
     "output_type": "execute_result"
    }
   ],
   "source": [
    "len(ids)"
   ]
  },
  {
   "cell_type": "code",
   "execution_count": 19,
   "metadata": {},
   "outputs": [
    {
     "data": {
      "image/png": "[encoded data removed]",
      "text/plain": [
       "<Figure size 800x800 with 1 Axes>"
      ]
     },
     "metadata": {},
     "output_type": "display_data"
    }
   ],
   "source": [
    "import pandas as pd\n",
    "import matplotlib.pyplot as plt\n",
    "from matplotlib_venn import venn3\n",
    "\n",
    "# CSV 파일 읽기 (이미 전처리된 데이터셋)\n",
    "df = pd.read_csv('/home/yl3427/cylab/SOAP_MA/data/mergedBioNLP2023.csv', usecols=['Subjective', 'Objective', 'Summary', 'cleaned_expanded_Summary', 'terms'])\n",
    "df = df.fillna('').apply(lambda x: x.str.lower())\n",
    "df['combined_summary'] = df['Summary'] + df['cleaned_expanded_Summary'] + df['terms']\n",
    "\n",
    "key1 = 'sepsis'\n",
    "key2 = 'acute kidney injury'\n",
    "key3 = 'congestive heart failure'\n",
    "# key4 = 'gi_bleed'\n",
    "# 각 질병에 대해 인스턴스(행) 인덱스 집합 생성\n",
    "set1 = set(df[df['combined_summary'].str.contains('|'.join(prob_dict[key1]).lower(), regex=True, na=False)].index)\n",
    "set2 = set(df[df['combined_summary'].str.contains('|'.join(prob_dict[key2]).lower(), regex=True, na=False)].index)\n",
    "set3 = set(df[df['combined_summary'].str.contains('|'.join(prob_dict[key3]).lower(), regex=True, na=False)].index)\n",
    "# set4 = set(df[df['combined_summary'].str.contains('|'.join(prob_dict[key4]), regex=True, na=False)].index)\n",
    "\n",
    "plt.figure(figsize=(8, 8))\n",
    "venn3([set1, set2, set3], (key1, key2, key3))\n",
    "plt.show()"
   ]
  },
  {
   "cell_type": "code",
   "execution_count": null,
   "metadata": {},
   "outputs": [
    {
     "ename": "NameError",
     "evalue": "name 'df' is not defined",
     "output_type": "error",
     "traceback": [
      "\u001b[0;31m---------------------------------------------------------------------------\u001b[0m",
      "\u001b[0;31mNameError\u001b[0m                                 Traceback (most recent call last)",
      "Cell \u001b[0;32mIn[3], line 9\u001b[0m\n\u001b[1;32m      7\u001b[0m     lst \u001b[38;5;241m=\u001b[39m [term\u001b[38;5;241m.\u001b[39mlower() \u001b[38;5;28;01mfor\u001b[39;00m term \u001b[38;5;129;01min\u001b[39;00m lst]\n\u001b[1;32m      8\u001b[0m     pattern \u001b[38;5;241m=\u001b[39m \u001b[38;5;124m'\u001b[39m\u001b[38;5;124m|\u001b[39m\u001b[38;5;124m'\u001b[39m\u001b[38;5;241m.\u001b[39mjoin(lst)\n\u001b[0;32m----> 9\u001b[0m     con \u001b[38;5;241m=\u001b[39m ( \u001b[43mdf\u001b[49m[\u001b[38;5;124m'\u001b[39m\u001b[38;5;124mcombined_summary\u001b[39m\u001b[38;5;124m'\u001b[39m]\u001b[38;5;241m.\u001b[39mstr\u001b[38;5;241m.\u001b[39mcontains(pattern, na\u001b[38;5;241m=\u001b[39m\u001b[38;5;28;01mFalse\u001b[39;00m, regex\u001b[38;5;241m=\u001b[39m\u001b[38;5;28;01mTrue\u001b[39;00m) \u001b[38;5;241m&\u001b[39m\n\u001b[1;32m     10\u001b[0m         \u001b[38;5;241m~\u001b[39mdf[\u001b[38;5;124m'\u001b[39m\u001b[38;5;124mSubjective\u001b[39m\u001b[38;5;124m'\u001b[39m]\u001b[38;5;241m.\u001b[39mstr\u001b[38;5;241m.\u001b[39mcontains(pattern, na\u001b[38;5;241m=\u001b[39m\u001b[38;5;28;01mFalse\u001b[39;00m, regex\u001b[38;5;241m=\u001b[39m\u001b[38;5;28;01mTrue\u001b[39;00m) \u001b[38;5;241m&\u001b[39m\n\u001b[1;32m     11\u001b[0m         \u001b[38;5;241m~\u001b[39mdf[\u001b[38;5;124m'\u001b[39m\u001b[38;5;124mObjective\u001b[39m\u001b[38;5;124m'\u001b[39m]\u001b[38;5;241m.\u001b[39mstr\u001b[38;5;241m.\u001b[39mcontains(pattern, na\u001b[38;5;241m=\u001b[39m\u001b[38;5;28;01mFalse\u001b[39;00m, regex\u001b[38;5;241m=\u001b[39m\u001b[38;5;28;01mTrue\u001b[39;00m))\n\u001b[1;32m     12\u001b[0m     df[name] \u001b[38;5;241m=\u001b[39m con\n\u001b[1;32m     14\u001b[0m \u001b[38;5;66;03m# UpSet Plot을 위한 데이터셋 생성\u001b[39;00m\n",
      "\u001b[0;31mNameError\u001b[0m: name 'df' is not defined"
     ]
    }
   ],
   "source": [
    "import pandas as pd\n",
    "import matplotlib.pyplot as plt\n",
    "from upsetplot import from_indicators, plot\n",
    "\n",
    "for name, lst in prob_dict.items():\n",
    "    # df[name] = df['combined_summary'].str.contains('|'.join(lst), regex=True, na=False)\n",
    "    lst = [term.lower() for term in lst]\n",
    "    pattern = '|'.join(lst)\n",
    "    con = (df['combined_summary'].str.contains(pattern, na=False, regex=True) &\n",
    "        ~df['Subjective'].str.contains(pattern, na=False, regex=True) &\n",
    "        ~df['Objective'].str.contains(pattern, na=False, regex=True))\n",
    "    df[name] = con\n",
    "\n",
    "# UpSet Plot을 위한 데이터셋 생성\n",
    "binary_df = df[list(prob_dict.keys())]\n",
    "upset_data = from_indicators(binary_df.columns.tolist(), binary_df)\n",
    "\n",
    "plt.figure(figsize=(10, 6))\n",
    "plot(upset_data) \n",
    "plt.show()"
   ]
  },
  {
   "cell_type": "code",
   "execution_count": 21,
   "metadata": {},
   "outputs": [
    {
     "name": "stdout",
     "output_type": "stream",
     "text": [
      "(445, 14)\n",
      "(107, 14)\n",
      "(23, 14)\n"
     ]
    }
   ],
   "source": [
    "df = binary_df\n",
    "print(df[df[list(prob_dict.keys())].sum(axis=1) > 0].shape)\n",
    "print(df[df[list(prob_dict.keys())].sum(axis=1) > 1].shape)\n",
    "print(df[df[list(prob_dict.keys())].sum(axis=1) > 2].shape)"
   ]
  },
  {
   "cell_type": "code",
   "execution_count": null,
   "metadata": {},
   "outputs": [],
   "source": [
    "filtered_df.loc[675].Objective"
   ]
  },
  {
   "cell_type": "code",
   "execution_count": null,
   "metadata": {},
   "outputs": [],
   "source": [
    "prob = \"renal failure\"\n",
    "prob2 = \"ARF\"\n",
    "prob3 = \"CRF\"\n",
    "n=0\n",
    "df = pd.read_csv('/home/yl3427/cylab/SOAP_MA/data/mergedBioNLP2023.csv')[['Assessment', 'Summary', 'Subjective', 'Objective', 'cleaned_expanded_Summary', 'terms']]\n",
    "for i, row in df.iterrows():\n",
    "    sub = row['Subjective']\n",
    "    obj = row['Objective']\n",
    "    sum = row['Summary'] + row['cleaned_expanded_Summary'] + row['terms']\n",
    "    if type(sum) != str or type(sub) != str or type(obj) != str:\n",
    "        continue\n",
    "    sub = sub.lower()\n",
    "    obj = obj.lower()\n",
    "    sum = sum.lower()\n",
    "    if (prob in sum) and (prob not in sub) and (prob not in obj) and (prob2 not in sub) and (prob2 not in obj) and (prob3 not in sub) and (prob3 not in obj):\n",
    "        n+=1\n",
    "        print(i, row['Summary'])\n",
    "n"
   ]
  },
  {
   "cell_type": "code",
   "execution_count": null,
   "metadata": {},
   "outputs": [],
   "source": []
  },
  {
   "cell_type": "code",
   "execution_count": null,
   "metadata": {},
   "outputs": [],
   "source": [
    "term_set = set()\n",
    "df = pd.read_csv('/home/yl3427/cylab/SOAP_MA/data/mergedBioNLP2023_interest.csv')[['Subjective', 'Objective', 'Assessment', 'terms']]\n",
    "df['terms'] = df['terms'].apply(lambda x: ast.literal_eval(x))\n",
    "for i in range(len(df)):\n",
    "    term_set.update(df['terms'][i])"
   ]
  },
  {
   "cell_type": "code",
   "execution_count": null,
   "metadata": {},
   "outputs": [],
   "source": [
    "sorted_term_set = sorted(list(term_set))\n",
    "sorted_term_set = [x for x in sorted_term_set if x != '']\n",
    "\", \".join(sorted_term_set)"
   ]
  },
  {
   "cell_type": "code",
   "execution_count": null,
   "metadata": {},
   "outputs": [],
   "source": [
    "terms_interest = ['hypertension','acute renal failure',\n",
    "                      'atrial fibrillation','anemia','coronary artery disease',\n",
    "                      'hypotension', 'altered mental status', 'respiratory failure',\n",
    "                      'diabetes mellitus', 'leukocytosis']\n",
    "for term_idx in range(0, len(terms_interest)-1, 2):\n",
    "    problem_1 = terms_interest[term_idx]\n",
    "    problem_2 = terms_interest[term_idx+1]\n",
    "    df = pd.read_csv(f\"/home/yl3427/cylab/SOAP_MA/data/0212_results_multi_{problem_1}_{problem_2}.csv\")\n",
    "    print(len(df))"
   ]
  },
  {
   "cell_type": "code",
   "execution_count": null,
   "metadata": {},
   "outputs": [],
   "source": [
    "terms_interest = ['hypertension','acute renal failure',\n",
    "                      'atrial fibrillation','anemia','coronary artery disease',\n",
    "                      'hypotension', 'altered mental status', 'respiratory failure',\n",
    "                      'diabetes mellitus', 'leukocytosis']\n",
    "for term in terms_interest:\n",
    "    df = pd.read_csv(f\"/home/yl3427/cylab/SOAP_MA/data/0212_results_single_{term}.csv\")[[\"terms\", f\"{term}\", f\"is_{term.replace(' ', '_')}_baseline\", f\"is_{term.replace(' ', '_')}_ltm\"]]\n",
    "    print(len(df))\n",
    "    print(\"-------------------\")"
   ]
  },
  {
   "cell_type": "code",
   "execution_count": null,
   "metadata": {},
   "outputs": [],
   "source": [
    "terms_interest = ['hypertension','acute renal failure',\n",
    "                      'atrial fibrillation','anemia','coronary artery disease',\n",
    "                      'hypotension', 'altered mental status', 'respiratory failure',\n",
    "                      'diabetes mellitus', 'leukocytosis']\n",
    "for term in terms_interest:\n",
    "    df = pd.read_csv(f\"/home/yl3427/cylab/SOAP_MA/data/0212_results_single_{term}.csv\")[[\"terms\", f\"{term}\", f\"is_{term.replace(' ', '_')}_baseline\", f\"is_{term.replace(' ', '_')}_ltm\"]]\n",
    "    \n",
    "    results = evaluate_results(df, term)\n",
    "    print(f\"Baseline {term} F1: {results['baseline']['f1_score']:.3f}\")\n",
    "    print(f\"LTM {term} F1: {results['ltm']['f1_score']:.3f}\")\n",
    "    print()\n",
    "    print(f\"Baseline {term} Precision: {results['baseline']['precision']:.3f}\")\n",
    "    print(f\"LTM {term} Precision: {results['ltm']['precision']:.3f}\")\n",
    "    print()\n",
    "    print(f\"Baseline {term} Recall: {results['baseline']['recall']:.3f}\")\n",
    "    print(f\"LTM {term} Recall: {results['ltm']['recall']:.3f}\")\n",
    "    print(\"====================================\")"
   ]
  },
  {
   "cell_type": "code",
   "execution_count": null,
   "metadata": {},
   "outputs": [],
   "source": [
    "terms_interest = [\n",
    "    'hypertension', 'acute renal failure', 'atrial fibrillation', 'anemia',\n",
    "    'coronary artery disease', 'hypotension', 'altered mental status',\n",
    "    'respiratory failure', 'diabetes mellitus', 'leukocytosis'\n",
    "]\n",
    "\n",
    "for term in terms_interest:\n",
    "    df = pd.read_csv(\n",
    "        f\"/home/yl3427/cylab/SOAP_MA/data/0212_results_single_{term}.csv\"\n",
    "    )[[\"terms\", f\"{term}\", \n",
    "       f\"is_{term.replace(' ', '_')}_baseline\", \n",
    "       f\"is_{term.replace(' ', '_')}_ltm\"]]\n",
    "    \n",
    "    results = evaluate_results(df, term)\n",
    "    \n",
    "    # 표 헤더 출력\n",
    "    print(f\"Results for: {term}\")\n",
    "    print(\"=\" * 48)\n",
    "    print(f\"{'':<12}{'Precision':>12}{'Recall':>12}{'F1':>12}\")\n",
    "    print(\"-\" * 48)\n",
    "    \n",
    "    # Baseline 결과 출력\n",
    "    print(f\"{'Baseline':<12}\"\n",
    "          f\"{results['baseline']['precision']:>12.3f}\"\n",
    "          f\"{results['baseline']['recall']:>12.3f}\"\n",
    "          f\"{results['baseline']['f1_score']:>12.3f}\")\n",
    "    \n",
    "    # LTM 결과 출력\n",
    "    print(f\"{'LTM':<12}\"\n",
    "          f\"{results['ltm']['precision']:>12.3f}\"\n",
    "          f\"{results['ltm']['recall']:>12.3f}\"\n",
    "          f\"{results['ltm']['f1_score']:>12.3f}\")\n",
    "    \n",
    "    print(\"\\n\")\n"
   ]
  },
  {
   "cell_type": "code",
   "execution_count": null,
   "metadata": {},
   "outputs": [],
   "source": [
    "terms_interest = ['hypertension','acute renal failure',\n",
    "                      'atrial fibrillation','anemia','coronary artery disease',\n",
    "                      'hypotension', 'altered mental status', 'respiratory failure',\n",
    "                      'diabetes mellitus', 'leukocytosis']\n",
    "for term_idx in range(0, len(terms_interest)-1, 2):\n",
    "    problem_1 = terms_interest[term_idx]\n",
    "    problem_2 = terms_interest[term_idx+1]\n",
    "    print(f\"<Given LTM for {problem_1} and {problem_2}>\")\n",
    "    print()\n",
    "    df = pd.read_csv(f\"/home/yl3427/cylab/SOAP_MA/data/0212_results_multi_{problem_1}_{problem_2}.csv\")\n",
    "    results = evaluate_results(df, problem_1)\n",
    "\n",
    "    # 표 헤더 출력\n",
    "    print(f\"Results for: {problem_1}\")\n",
    "    print(\"=\" * 48)\n",
    "    print(f\"{'':<12}{'Precision':>12}{'Recall':>12}{'F1':>12}\")\n",
    "    print(\"-\" * 48)\n",
    "    \n",
    "    # Baseline 결과 출력\n",
    "    print(f\"{'Baseline':<12}\"\n",
    "          f\"{results['baseline']['precision']:>12.3f}\"\n",
    "          f\"{results['baseline']['recall']:>12.3f}\"\n",
    "          f\"{results['baseline']['f1_score']:>12.3f}\")\n",
    "    \n",
    "    # LTM 결과 출력\n",
    "    print(f\"{'LTM':<12}\"\n",
    "          f\"{results['ltm']['precision']:>12.3f}\"\n",
    "          f\"{results['ltm']['recall']:>12.3f}\"\n",
    "          f\"{results['ltm']['f1_score']:>12.3f}\")\n",
    "    \n",
    "    print(\"\\n\")\n",
    "\n",
    "\n",
    "    results = evaluate_results(df, problem_2)\n",
    "    # 표 헤더 출력\n",
    "    print(f\"Results for: {problem_2}\")\n",
    "    print(\"=\" * 48)\n",
    "    print(f\"{'':<12}{'Precision':>12}{'Recall':>12}{'F1':>12}\")\n",
    "    print(\"-\" * 48)\n",
    "    \n",
    "    # Baseline 결과 출력\n",
    "    print(f\"{'Baseline':<12}\"\n",
    "          f\"{results['baseline']['precision']:>12.3f}\"\n",
    "          f\"{results['baseline']['recall']:>12.3f}\"\n",
    "          f\"{results['baseline']['f1_score']:>12.3f}\")\n",
    "    \n",
    "    # LTM 결과 출력\n",
    "    print(f\"{'LTM':<12}\"\n",
    "          f\"{results['ltm']['precision']:>12.3f}\"\n",
    "          f\"{results['ltm']['recall']:>12.3f}\"\n",
    "          f\"{results['ltm']['f1_score']:>12.3f}\")\n",
    "    \n",
    "    print(\"\\n\")"
   ]
  },
  {
   "cell_type": "code",
   "execution_count": null,
   "metadata": {},
   "outputs": [],
   "source": []
  },
  {
   "cell_type": "code",
   "execution_count": null,
   "metadata": {},
   "outputs": [],
   "source": []
  },
  {
   "cell_type": "code",
   "execution_count": null,
   "metadata": {},
   "outputs": [],
   "source": []
  },
  {
   "cell_type": "code",
   "execution_count": null,
   "metadata": {},
   "outputs": [],
   "source": []
  },
  {
   "cell_type": "code",
   "execution_count": null,
   "metadata": {},
   "outputs": [],
   "source": []
  },
  {
   "cell_type": "code",
   "execution_count": null,
   "metadata": {},
   "outputs": [],
   "source": [
    "terms_interest = ['hypertension','acute renal failure',\n",
    "                      'atrial fibrillation','anemia','coronary artery disease',\n",
    "                      'hypotension', 'altered mental status', 'respiratory failure',\n",
    "                      'diabetes mellitus', 'leukocytosis']\n",
    "for term in terms_interest:\n",
    "    print(term)\n",
    "    df = pd.read_csv(f\"/home/yl3427/cylab/SOAP_MA/data/0212_results_{term}.csv\")\n",
    "    for i, row in df.iterrows():\n",
    "        # print(row[\"terms\"], row[\"anemia\"], row[\"is_anemia_baseline\"], row[\"is_anemia_ltm\"])\n",
    "        # print(row[\"Subjective\"], row[\"Objective\"], row[\"Assessment\"])\n",
    "        # print(\"-------------------\")\n",
    "        pass\n",
    "    print(df[\"terms\"].values)\n",
    "    print(\"-------------------\")"
   ]
  },
  {
   "cell_type": "code",
   "execution_count": null,
   "metadata": {},
   "outputs": [],
   "source": [
    "def safe_eval(cell):\n",
    "    if pd.isna(cell) or not isinstance(cell, str):\n",
    "        print(cell)\n",
    "        return cell\n",
    "    return ast.literal_eval(cell)"
   ]
  },
  {
   "cell_type": "code",
   "execution_count": null,
   "metadata": {},
   "outputs": [],
   "source": [
    "df = pd.read_csv('/home/yl3427/cylab/SOAP_MA/data/mergedBioNLP2023.csv')"
   ]
  },
  {
   "cell_type": "code",
   "execution_count": null,
   "metadata": {},
   "outputs": [],
   "source": [
    "df.dropna(inplace=True, ignore_index=True)"
   ]
  },
  {
   "cell_type": "code",
   "execution_count": null,
   "metadata": {},
   "outputs": [],
   "source": [
    "df['terms'] = df['terms'].apply(safe_eval)"
   ]
  },
  {
   "cell_type": "code",
   "execution_count": null,
   "metadata": {},
   "outputs": [],
   "source": [
    "df['terms']"
   ]
  },
  {
   "cell_type": "code",
   "execution_count": null,
   "metadata": {},
   "outputs": [],
   "source": [
    "for i, row in df.iterrows():\n",
    "    if type(row['terms']) != list:\n",
    "        print(f\"{i} is not a list: {row}\")\n"
   ]
  },
  {
   "cell_type": "code",
   "execution_count": null,
   "metadata": {},
   "outputs": [],
   "source": [
    "for i, row in df.iterrows():\n",
    "    if \"rectal prolapse\" in str(row['terms']):\n",
    "        txt = row['Subjective'] + row['Objective']\n",
    "        txt = txt.lower()\n",
    "        if (\"rectal prolapse\" not in txt):\n",
    "            print(row['terms'])\n",
    "            print(txt)\n",
    "            print(\"----------\")"
   ]
  },
  {
   "cell_type": "code",
   "execution_count": null,
   "metadata": {},
   "outputs": [],
   "source": [
    "for i, row in df.iterrows():\n",
    "    if \"sepsis\" in str(row['terms']):\n",
    "        txt = row['Subjective'] + row['Objective']\n",
    "        txt = txt.lower()\n",
    "        if (\"sepsis\" not in txt) and (\"septic\" not in txt):\n",
    "            print(row['terms'])\n",
    "            print(txt)\n",
    "            print(\"----------\")"
   ]
  },
  {
   "cell_type": "code",
   "execution_count": null,
   "metadata": {},
   "outputs": [],
   "source": [
    "term_set = set()\n",
    "for terms in df['terms']:\n",
    "    term_set.update(terms)\n",
    "sorted(term_set)"
   ]
  },
  {
   "cell_type": "code",
   "execution_count": null,
   "metadata": {},
   "outputs": [],
   "source": [
    "term_counts = defaultdict(int)\n",
    "for terms in df['terms']:\n",
    "    for item in terms:\n",
    "        term_counts[item] += 1"
   ]
  },
  {
   "cell_type": "code",
   "execution_count": null,
   "metadata": {},
   "outputs": [],
   "source": [
    "sorted(term_counts.items(), key=lambda x: x[1], reverse=True)"
   ]
  },
  {
   "cell_type": "code",
   "execution_count": null,
   "metadata": {},
   "outputs": [],
   "source": [
    "terms_interest = [k for k, v in sorted(term_counts.items(), key=lambda x: x[1], reverse=True)[:10]]"
   ]
  },
  {
   "cell_type": "code",
   "execution_count": null,
   "metadata": {},
   "outputs": [],
   "source": [
    "sorted(term_counts.items(), key=lambda x: x[1], reverse=True)[:10]"
   ]
  },
  {
   "cell_type": "code",
   "execution_count": null,
   "metadata": {},
   "outputs": [],
   "source": [
    "terms_interest"
   ]
  },
  {
   "cell_type": "code",
   "execution_count": null,
   "metadata": {},
   "outputs": [],
   "source": [
    "for i, row in df.iterrows():\n",
    "    for term in terms_interest:\n",
    "        if term == 'diabetes mellitus':\n",
    "            if ('diabetic' in str(row['terms'])) or ('diabetes' in str(row['terms'])):\n",
    "                df.at[i, term] = True\n",
    "            else:\n",
    "                df.at[i, term] = False\n",
    "        else:\n",
    "            if term in str(row['terms']):\n",
    "                df.at[i, term] = True\n",
    "            else:\n",
    "                df.at[i, term] = False"
   ]
  },
  {
   "cell_type": "code",
   "execution_count": null,
   "metadata": {},
   "outputs": [],
   "source": [
    "df_interest = df[df[terms_interest].any(axis=1)].reset_index(drop=True)\n",
    "df_interest"
   ]
  },
  {
   "cell_type": "code",
   "execution_count": null,
   "metadata": {},
   "outputs": [],
   "source": [
    "df_interest.to_csv('/home/yl3427/cylab/SOAP_MA/data/mergedBioNLP2023_interest.csv', index=False)"
   ]
  },
  {
   "cell_type": "code",
   "execution_count": null,
   "metadata": {},
   "outputs": [],
   "source": [
    "terms_interest"
   ]
  },
  {
   "cell_type": "code",
   "execution_count": null,
   "metadata": {},
   "outputs": [],
   "source": [
    "split = {key: [] for key in terms_interest}\n",
    "for term in terms_interest:\n",
    "    for i, row in df_interest.iterrows():\n",
    "        if row[term]:\n",
    "            split[term].append(row['File ID'])"
   ]
  },
  {
   "cell_type": "code",
   "execution_count": null,
   "metadata": {},
   "outputs": [],
   "source": [
    "for k, v in split.items():\n",
    "    print(f\"{k}: {len(v)}\")\n",
    "\n",
    "# save split into pickle\n",
    "with open('/home/yl3427/cylab/SOAP_MA/data/split.pkl', 'wb') as f:\n",
    "    pickle.dump(split, f)"
   ]
  },
  {
   "cell_type": "code",
   "execution_count": null,
   "metadata": {},
   "outputs": [],
   "source": [
    "terms_interest = ['hypertension','acute renal failure',\n",
    "                      'atrial fibrillation','anemia','coronary artery disease',\n",
    "                      'hypotension', 'altered mental status', 'respiratory failure',\n",
    "                      'diabetes mellitus', 'leukocytosis']\n",
    "for term in terms_interest:\n",
    "    train_ids = split[term][:10]\n",
    "    train_df = df_interest[df_interest['File ID'].isin(train_ids)]\n",
    "    print(train_df[terms_interest])\n"
   ]
  },
  {
   "cell_type": "code",
   "execution_count": null,
   "metadata": {},
   "outputs": [],
   "source": [
    "from pydantic import BaseModel, Field\n",
    "from typing import List\n",
    "class ResponseDiagnosisWithReasoning(BaseModel):\n",
    "    reasoning: str = Field(\n",
    "        ...,\n",
    "        description=\"Step-by-step reasoning that leads to the final diagnosis.\"\n",
    "    )\n",
    "    diagnosis: bool = Field(\n",
    "        ...,\n",
    "        description=\"Binary diagnosis: True if patient has the disease, False otherwise.\"\n",
    "    )\n",
    "ResponseDiagnosisWithReasoning.model_json_schema()"
   ]
  },
  {
   "cell_type": "code",
   "execution_count": null,
   "metadata": {},
   "outputs": [],
   "source": []
  },
  {
   "cell_type": "code",
   "execution_count": null,
   "metadata": {},
   "outputs": [],
   "source": []
  },
  {
   "cell_type": "markdown",
   "metadata": {},
   "source": [
    "# Load LTM"
   ]
  },
  {
   "cell_type": "code",
   "execution_count": null,
   "metadata": {},
   "outputs": [],
   "source": [
    "terms_interest = ['hypertension','acute renal failure',\n",
    "                      'atrial fibrillation','anemia','coronary artery disease',\n",
    "                      'hypotension', 'altered mental status', 'respiratory failure',\n",
    "                      'diabetes mellitus', 'leukocytosis']\n",
    "for term_idx in range(0, len(terms_interest)-1, 2):\n",
    "    problem_1 = terms_interest[term_idx]\n",
    "    problem_2 = terms_interest[term_idx + 1]\n",
    "    print(problem_1, problem_2)"
   ]
  },
  {
   "cell_type": "code",
   "execution_count": null,
   "metadata": {},
   "outputs": [],
   "source": [
    "terms_interest = ['hypertension','acute renal failure',\n",
    "                      'atrial fibrillation','anemia','coronary artery disease',\n",
    "                      'hypotension', 'altered mental status', 'respiratory failure',\n",
    "                      'diabetes mellitus', 'leukocytosis']\n",
    "for term in terms_interest:\n",
    "    print(term)\n",
    "    with open(f\"/home/yl3427/cylab/SOAP_MA/ltm_per_disease/0212_memory_{term}.pkl\", \"rb\") as file:\n",
    "        ltm = pickle.load(file)\n",
    "\n",
    "    print(f\"\\t# of items: {len(ltm)}\")\n",
    "    print(f\"\\tTotal characters: {sum([len(item) for item in ltm])}\")\n",
    "    # print(ltm)\n",
    "    print(\"-------------------\")"
   ]
  },
  {
   "cell_type": "code",
   "execution_count": null,
   "metadata": {},
   "outputs": [],
   "source": [
    "ltm"
   ]
  },
  {
   "cell_type": "code",
   "execution_count": null,
   "metadata": {},
   "outputs": [],
   "source": [
    "prompt_test_multi_baseline = \"\"\"\n",
    "You are provided with only the Subjective (S) and Objective (O) sections of a new patient's SOAP-formatted progress note that may be relevant to one or more of the following diseases:\n",
    "\n",
    "1. {PROBLEM_1}\n",
    "2. {PROBLEM_2}\n",
    "\n",
    "Patient Report:\n",
    "<Subjective>\n",
    "{subj}\n",
    "</Subjective>\n",
    "\n",
    "<Objective>\n",
    "{obj}\n",
    "</Objective>\n",
    "\n",
    "For each of the diseases, provide a detailed, step-by-step reasoning on how you arrive at a conclusion based on the patient report, and then state a final binary diagnosis (\"True\" if the patient is diagnosed with the disease, \"False\" if not).\n",
    "\n",
    "Format your answer as valid JSON exactly as follows:\n",
    "{{\n",
    "    \"diagnoses\": {{\n",
    "         \"{PROBLEM_1}\": {{\n",
    "              \"reasoning\": \"Your reasoning here...\",\n",
    "              \"diagnosis\": true_or_false\n",
    "         }},\n",
    "         \"{PROBLEM_2}\": {{\n",
    "              \"reasoning\": \"Your reasoning here...\",\n",
    "              \"diagnosis\": true_or_false\n",
    "         }}\n",
    "    }}\n",
    "}}\n",
    "\n",
    "Ensure that the reasoning comes before the diagnosis for each disease.\n",
    "\"\"\""
   ]
  },
  {
   "cell_type": "code",
   "execution_count": null,
   "metadata": {},
   "outputs": [],
   "source": [
    "from pydantic import BaseModel, Field, create_model\n",
    "\n",
    "# Define the DiseaseDiagnosis model first.\n",
    "class DiseaseDiagnosis(BaseModel):\n",
    "    reasoning: str = Field(..., description=\"Step-by-step reasoning that leads to the final diagnosis.\")\n",
    "    diagnosis: bool = Field(..., description=\"Binary diagnosis: True if the patient has the disease, False otherwise.\")\n",
    "\n",
    "# Assume these values are provided dynamically.\n",
    "problem_1 = \"Hypertension\"\n",
    "problem_2 = \"Acute Renal Failure\"\n",
    "\n",
    "DynamicResponseMultiDiagnosis = create_model(\n",
    "    'DynamicResponseMultiDiagnosis',\n",
    "    **{\n",
    "        problem_1: (DiseaseDiagnosis, ...),\n",
    "        problem_2: (DiseaseDiagnosis, ...),\n",
    "    }\n",
    ")\n",
    "\n",
    "DynamicResponseMultiDiagnosis.model_json_schema()"
   ]
  },
  {
   "cell_type": "code",
   "execution_count": null,
   "metadata": {},
   "outputs": [],
   "source": [
    "DiseaseDiagnosis.model_json_schema()"
   ]
  },
  {
   "cell_type": "code",
   "execution_count": null,
   "metadata": {},
   "outputs": [],
   "source": [
    "ltm_dict = {}\n",
    "terms_interest = ['hypertension','acute renal failure',\n",
    "                      'atrial fibrillation','anemia','coronary artery disease',\n",
    "                      'hypotension', 'altered mental status', 'respiratory failure',\n",
    "                      'diabetes mellitus', 'leukocytosis']\n",
    "for term in terms_interest:\n",
    "    with open(f\"/home/yl3427/cylab/SOAP_MA/ltm_per_disease/0211_memory_{term}.pkl\", \"rb\") as file:\n",
    "        ltm = pickle.load(file)\n",
    "        ltm_dict[term] = ltm[1]"
   ]
  },
  {
   "cell_type": "code",
   "execution_count": null,
   "metadata": {},
   "outputs": [],
   "source": [
    "for k, v in ltm_dict.items():\n",
    "    print(f\"{k}: {len(v)}\")"
   ]
  },
  {
   "cell_type": "code",
   "execution_count": null,
   "metadata": {},
   "outputs": [],
   "source": [
    "from sklearn.metrics import precision_score, recall_score, f1_score\n",
    "\n",
    "def evaluate_results(df, term):\n",
    "\n",
    "    label_col = term\n",
    "    baseline_col = f\"is_{term.replace(' ', '_')}_baseline\"\n",
    "    ltm_col = f\"is_{term.replace(' ', '_')}_ltm\"\n",
    "    \n",
    "    df[label_col] = df[label_col].replace({'True': True, 'False': False})\n",
    "    df[label_col] = df[label_col].astype(bool)\n",
    "\n",
    "    df[baseline_col] = df[baseline_col].replace({'True': True, 'False': False})\n",
    "    df[baseline_col] = df[baseline_col].astype(bool)\n",
    "\n",
    "    df[ltm_col] = df[ltm_col].replace({'True': True, 'False': False})\n",
    "    df[ltm_col] = df[ltm_col].astype(bool)\n",
    "\n",
    "    num_original_rows = len(df)\n",
    "\n",
    "    filtered_df = df.dropna(subset=[label_col, baseline_col, ltm_col])\n",
    "\n",
    "    # debug_target_values(filtered_df, label_col, baseline_col, ltm_col)\n",
    "  \n",
    "    num_rows_dropped = num_original_rows - len(filtered_df)\n",
    "    num_rows_evaluated = len(filtered_df)\n",
    "    print(f\"Number of rows dropped: {num_rows_dropped}\")\n",
    "    print(f\"Number of rows evaluated: {num_rows_evaluated}\")\n",
    "\n",
    "    y_true = filtered_df[label_col]\n",
    "    y_pred_baseline = filtered_df[baseline_col]\n",
    "    y_pred_ltm = filtered_df[ltm_col]\n",
    "\n",
    "    prec_baseline = precision_score(y_true, y_pred_baseline, zero_division=0)\n",
    "    rec_baseline  = recall_score(y_true, y_pred_baseline, zero_division=0)\n",
    "    f1_baseline   = f1_score(y_true, y_pred_baseline, zero_division=0)\n",
    "\n",
    "    prec_ltm = precision_score(y_true, y_pred_ltm, zero_division=0)\n",
    "    rec_ltm  = recall_score(y_true, y_pred_ltm, zero_division=0)\n",
    "    f1_ltm   = f1_score(y_true, y_pred_ltm, zero_division=0)\n",
    "\n",
    "    return {\n",
    "        \"num_original_rows\": num_original_rows,\n",
    "        \"num_rows_dropped\": num_rows_dropped,\n",
    "        \"num_rows_evaluated\": num_rows_evaluated,\n",
    "        \"baseline\": {\n",
    "            \"precision\": prec_baseline,\n",
    "            \"recall\":    rec_baseline,\n",
    "            \"f1_score\":  f1_baseline\n",
    "        },\n",
    "        \"ltm\": {\n",
    "            \"precision\": prec_ltm,\n",
    "            \"recall\":    rec_ltm,\n",
    "            \"f1_score\":  f1_ltm\n",
    "        }\n",
    "    }\n",
    "\n",
    "def debug_target_values(df, label_col, baseline_col, ltm_col):\n",
    "    print(\"Unique values in label:\", df[label_col].unique())\n",
    "    print(\"Unique values in baseline:\", df[baseline_col].unique())\n",
    "    print(\"Unique values in ltm:\", df[ltm_col].unique())\n",
    "\n",
    "    print(\"Label dtype:\", df[label_col].dtype)\n",
    "    print(\"Baseline dtype:\", df[baseline_col].dtype)\n",
    "    print(\"LTM dtype:\", df[ltm_col].dtype)\n"
   ]
  },
  {
   "cell_type": "code",
   "execution_count": null,
   "metadata": {},
   "outputs": [],
   "source": []
  },
  {
   "cell_type": "code",
   "execution_count": null,
   "metadata": {},
   "outputs": [],
   "source": [
    "terms_lst = [\n",
    "    \"acute renal failure\",\n",
    "    \"anemia\",\n",
    "    \"atrial fibrillation\",\n",
    "    \"coronary artery disease\",\n",
    "    \"hypertension\",\n",
    "]"
   ]
  },
  {
   "cell_type": "code",
   "execution_count": null,
   "metadata": {},
   "outputs": [],
   "source": []
  }
 ],
 "metadata": {
  "kernelspec": {
   "display_name": "base",
   "language": "python",
   "name": "python3"
  },
  "language_info": {
   "codemirror_mode": {
    "name": "ipython",
    "version": 3
   },
   "file_extension": ".py",
   "mimetype": "text/x-python",
   "name": "python",
   "nbconvert_exporter": "python",
   "pygments_lexer": "ipython3",
   "version": "3.10.13"
  }
 },
 "nbformat": 4,
 "nbformat_minor": 2
}
