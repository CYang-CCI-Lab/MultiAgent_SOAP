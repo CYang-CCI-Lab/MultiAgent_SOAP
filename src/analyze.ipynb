{
 "cells": [
  {
   "cell_type": "code",
   "execution_count": 70,
   "metadata": {},
   "outputs": [],
   "source": [
    "import numpy as np\n",
    "import pandas as pd\n",
    "import matplotlib.pyplot as plt\n",
    "import json\n",
    "import os\n",
    "from typing import List, Dict, Union\n",
    "from pydantic import BaseModel, Field\n",
    "from langchain.output_parsers import PydanticOutputParser\n",
    "from openai import OpenAI\n",
    "from metrics import *\n",
    "from agent import *\n",
    "from prompt import *\n",
    "from scipy.spatial.distance import jensenshannon\n",
    "from rouge_score import rouge_scorer\n",
    "from transformers import AutoTokenizer, AutoModel\n",
    "import torch\n",
    "from bert_score import score\n",
    "from transformers import AutoTokenizer, AutoModel\n",
    "import torch\n",
    "from sklearn.metrics.pairwise import cosine_similarity\n",
    "import numpy as np"
   ]
  },
  {
   "cell_type": "markdown",
   "metadata": {},
   "source": [
    "# SOAP Datasets"
   ]
  },
  {
   "cell_type": "code",
   "execution_count": 71,
   "metadata": {},
   "outputs": [
    {
     "data": {
      "text/plain": [
       "89"
      ]
     },
     "execution_count": 71,
     "metadata": {},
     "output_type": "execute_result"
    }
   ],
   "source": [
    "a_train_df = pd.read_csv(\"/home/yl3427/cylab/rag_tnm/Task-3_Train.csv\") # 603\n",
    "a_eval_df = pd.read_csv(\"/home/yl3427/cylab/rag_tnm/Task-3_Eval.csv\") # 75\n",
    "a_test_df = pd.read_csv(\"/home/yl3427/cylab/rag_tnm/Task-3_Test.csv\") # 87\n",
    "\n",
    "soap_train_df = pd.read_csv(\"/home/yl3427/cylab/rag_tnm/BioNLP2023-1A-Train.csv\") # 765, this includes all of the three above\n",
    "soap_test_df = pd.read_csv(\"/home/yl3427/cylab/rag_tnm/BioNLP2023-1A-Test.csv\") # for shots\n",
    "\n",
    "filtered_df = soap_train_df[soap_train_df['File ID'].isin(set(a_test_df['File ID']).union({'190862.txt', '109943.txt', '195790.txt'}))]\n",
    "len(filtered_df) # 90 - 1 = 89"
   ]
  },
  {
   "cell_type": "code",
   "execution_count": 7,
   "metadata": {},
   "outputs": [
    {
     "data": {
      "text/plain": [
       "Index(['File ID', 'Assessment', 'Summary', 'Subjective Sections',\n",
       "       'Objective Sections'],\n",
       "      dtype='object')"
      ]
     },
     "execution_count": 7,
     "metadata": {},
     "output_type": "execute_result"
    }
   ],
   "source": [
    "filtered_df.columns"
   ]
  },
  {
   "cell_type": "code",
   "execution_count": null,
   "metadata": {},
   "outputs": [],
   "source": [
    "for i, row in filtered_df.iterrows():\n",
    "    print(row['Summary'])\n",
    "    print(\"-----------\")"
   ]
  },
  {
   "cell_type": "code",
   "execution_count": null,
   "metadata": {},
   "outputs": [],
   "source": [
    "len_lst = []\n",
    "for i in range(len(soap_test_df)):\n",
    "    row = soap_test_df.iloc[i]\n",
    "    try:\n",
    "        length = len(row[\"Subjectives\"]) + len(row[\"Objectives\"]) + len(row[\"Assessment\"]) + len(row[\"Summary\"])\n",
    "        len_lst.append(length)\n",
    "    except:\n",
    "        print(row)\n",
    "\n",
    "smallest_number = min(len_lst)\n",
    "print(smallest_number)\n",
    "index_of_smallest = len_lst.index(smallest_number)\n",
    "index_of_smallest"
   ]
  },
  {
   "cell_type": "code",
   "execution_count": null,
   "metadata": {},
   "outputs": [],
   "source": [
    "soap_test_df.iloc[50][\"Summary\"] # [\"Objectives\"], [\"Assessment\"], [\"Summary\"]"
   ]
  },
  {
   "cell_type": "code",
   "execution_count": null,
   "metadata": {},
   "outputs": [],
   "source": [
    "filtered_df.head(2)"
   ]
  },
  {
   "cell_type": "code",
   "execution_count": null,
   "metadata": {},
   "outputs": [],
   "source": []
  },
  {
   "cell_type": "markdown",
   "metadata": {},
   "source": [
    "# SOAP result"
   ]
  },
  {
   "cell_type": "code",
   "execution_count": 27,
   "metadata": {},
   "outputs": [
    {
     "data": {
      "text/plain": [
       "'Coronary Artery Disease; v fibrillation.'"
      ]
     },
     "execution_count": 27,
     "metadata": {},
     "output_type": "execute_result"
    }
   ],
   "source": [
    "filtered_df['Summary'].iloc[0]"
   ]
  },
  {
   "cell_type": "code",
   "execution_count": 73,
   "metadata": {},
   "outputs": [],
   "source": [
    "# zero-shot\n",
    "soa_zs_df = pd.read_csv(\"/home/yl3427/cylab/rag_tnm/soap_result/1024_soap_soa_zs.csv\")\n",
    "sa_zs_df = pd.read_csv(\"/home/yl3427/cylab/rag_tnm/soap_result/1024_soap_sa_zs.csv\")\n",
    "so_zs_df = pd.read_csv(\"/home/yl3427/cylab/rag_tnm/soap_result/1024_soap_so_zs.csv\")\n",
    "a_zs_df = pd.read_csv(\"/home/yl3427/cylab/rag_tnm/soap_result/1024_soap_a_zs.csv\")\n",
    "\n",
    "# one-shot\n",
    "soa_os_df = pd.read_csv(\"/home/yl3427/cylab/rag_tnm/soap_result/1024_soap_soa_os.csv\")\n",
    "sa_os_df = pd.read_csv(\"/home/yl3427/cylab/rag_tnm/soap_result/1024_soap_sa_os.csv\")\n",
    "so_os_df = pd.read_csv(\"/home/yl3427/cylab/rag_tnm/soap_result/1024_soap_so_os.csv\")\n",
    "a_os_df = pd.read_csv(\"/home/yl3427/cylab/rag_tnm/soap_result/1024_soap_a_os.csv\")"
   ]
  },
  {
   "cell_type": "code",
   "execution_count": 152,
   "metadata": {},
   "outputs": [
    {
     "data": {
      "text/plain": [
       "'ESRD; HD; HTN; HL; acute CHF exacerbation; NSTEMI; DES in LAD; DES in LMCA'"
      ]
     },
     "execution_count": 152,
     "metadata": {},
     "output_type": "execute_result"
    }
   ],
   "source": [
    "zs_df_lst = [(soa_zs_df, \"soa_zs\"), (sa_zs_df, \"sa_zs\"), (so_zs_df, \"so_zs\"), (a_zs_df, \"a_zs\")]\n",
    "os_df_lst = [(soa_os_df, \"soa_os\"), (sa_os_df, \"sa_os\"), (so_os_df, \"so_os\"), (a_os_df, \"a_os\")]\n",
    "ground_truth = filtered_df[\"Summary\"]\n",
    "\n",
    "a_zs_df.loc[a_zs_df[\"File ID\"].isin({'190862.txt', '109943.txt'})][['File ID','pred']]\n",
    "\n",
    "a_os_df.loc[a_os_df[\"File ID\"]== '109943.txt']['pred'].values[0]"
   ]
  },
  {
   "cell_type": "code",
   "execution_count": 143,
   "metadata": {},
   "outputs": [
    {
     "data": {
      "text/html": [
       "<div>\n",
       "<style scoped>\n",
       "    .dataframe tbody tr th:only-of-type {\n",
       "        vertical-align: middle;\n",
       "    }\n",
       "\n",
       "    .dataframe tbody tr th {\n",
       "        vertical-align: top;\n",
       "    }\n",
       "\n",
       "    .dataframe thead th {\n",
       "        text-align: right;\n",
       "    }\n",
       "</style>\n",
       "<table border=\"1\" class=\"dataframe\">\n",
       "  <thead>\n",
       "    <tr style=\"text-align: right;\">\n",
       "      <th></th>\n",
       "      <th>File ID</th>\n",
       "      <th>Assessment</th>\n",
       "      <th>Summary</th>\n",
       "      <th>Subjective Sections</th>\n",
       "      <th>Objective Sections</th>\n",
       "      <th>pred</th>\n",
       "    </tr>\n",
       "  </thead>\n",
       "  <tbody>\n",
       "    <tr>\n",
       "      <th>1</th>\n",
       "      <td>109943.txt</td>\n",
       "      <td>81yo F with h/o ESRD on HD, HTN, HL, acute CHF...</td>\n",
       "      <td>S/P NSTEMI; HTN; Chronic renal failure; HL</td>\n",
       "      <td>- echo: 75 EF, LVH, PCWP 18\\n- dialyzed, overa...</td>\n",
       "      <td>Last dose of Antibiotics:\\nInfusions:\\nOther I...</td>\n",
       "      <td>ESRD; HD; HTN; HL; acute CHF exacerbation; NST...</td>\n",
       "    </tr>\n",
       "    <tr>\n",
       "      <th>28</th>\n",
       "      <td>190862.txt</td>\n",
       "      <td>81 yo man with CAD s/p CABG, recent NSTEMI at ...</td>\n",
       "      <td># Cholangitis; CAD; HTN; AoCRF</td>\n",
       "      <td>NaN</td>\n",
       "      <td>WBC\\n57.1\\n45.1\\n32.1\\n19.5\\n16.0\\nHct\\n30.1\\n...</td>\n",
       "      <td>CAD; CABG; NSTEMI; HTN; CKD; Cholangitis; Hypo...</td>\n",
       "    </tr>\n",
       "  </tbody>\n",
       "</table>\n",
       "</div>"
      ],
      "text/plain": [
       "       File ID                                         Assessment  \\\n",
       "1   109943.txt  81yo F with h/o ESRD on HD, HTN, HL, acute CHF...   \n",
       "28  190862.txt  81 yo man with CAD s/p CABG, recent NSTEMI at ...   \n",
       "\n",
       "                                       Summary  \\\n",
       "1   S/P NSTEMI; HTN; Chronic renal failure; HL   \n",
       "28              # Cholangitis; CAD; HTN; AoCRF   \n",
       "\n",
       "                                  Subjective Sections  \\\n",
       "1   - echo: 75 EF, LVH, PCWP 18\\n- dialyzed, overa...   \n",
       "28                                                NaN   \n",
       "\n",
       "                                   Objective Sections  \\\n",
       "1   Last dose of Antibiotics:\\nInfusions:\\nOther I...   \n",
       "28  WBC\\n57.1\\n45.1\\n32.1\\n19.5\\n16.0\\nHct\\n30.1\\n...   \n",
       "\n",
       "                                                 pred  \n",
       "1   ESRD; HD; HTN; HL; acute CHF exacerbation; NST...  \n",
       "28  CAD; CABG; NSTEMI; HTN; CKD; Cholangitis; Hypo...  "
      ]
     },
     "execution_count": 143,
     "metadata": {},
     "output_type": "execute_result"
    }
   ],
   "source": [
    "a_os_df.loc[a_os_df[\"File ID\"].isin({'190862.txt', '109943.txt'})][['File ID','pred']]"
   ]
  },
  {
   "cell_type": "markdown",
   "metadata": {},
   "source": [
    "# SOAP Evaluation"
   ]
  },
  {
   "cell_type": "markdown",
   "metadata": {},
   "source": [
    "### ROUGE-L F-score"
   ]
  },
  {
   "cell_type": "code",
   "execution_count": 159,
   "metadata": {},
   "outputs": [
    {
     "data": {
      "text/plain": [
       "'S/P NSTEMI; HTN; Chronic renal failure; HL'"
      ]
     },
     "execution_count": 159,
     "metadata": {},
     "output_type": "execute_result"
    }
   ],
   "source": [
    "a_zs_df.loc[a_zs_df[\"File ID\"].isin({'190862.txt', '109943.txt'})][['File ID','pred', 'Summary']]\n",
    "\n",
    "a_zs_df.loc[a_zs_df[\"File ID\"]== '109943.txt']['Summary'].values[0]"
   ]
  },
  {
   "cell_type": "code",
   "execution_count": 160,
   "metadata": {},
   "outputs": [
    {
     "name": "stdout",
     "output_type": "stream",
     "text": [
      "ROUGE-L F-score: 0.2667\n",
      "ROUGE-L F-score: 0.1538\n"
     ]
    }
   ],
   "source": [
    "rg_scorer = rouge_scorer.RougeScorer(['rougeL'], use_stemmer=True)\n",
    "\n",
    "predictions = ['CAD s/p CABG; recent NSTEMI; HTN; CKD; cholangitis; hypotension (resolved)',\n",
    "               'ESRD on HD; HTN; HL; acute CHF exacerbation; NSTEMI; s/p cath with DES in LAD and LMCA.']\n",
    "\n",
    "references = ['# Cholangitis; CAD; HTN; AoCRF',\n",
    "              'S/P NSTEMI; HTN; Chronic renal failure; HL']\n",
    "\n",
    "for pred, ref in zip(predictions, references):\n",
    "    scores = rg_scorer.score(ref, pred)\n",
    "    rougeL_f = scores['rougeL'].fmeasure\n",
    "    print(f\"ROUGE-L F-score: {rougeL_f:.4f}\")"
   ]
  },
  {
   "cell_type": "code",
   "execution_count": 154,
   "metadata": {},
   "outputs": [
    {
     "data": {
      "text/plain": [
       "89"
      ]
     },
     "execution_count": 154,
     "metadata": {},
     "output_type": "execute_result"
    }
   ],
   "source": [
    "len(so_os_df)"
   ]
  },
  {
   "cell_type": "code",
   "execution_count": null,
   "metadata": {},
   "outputs": [],
   "source": []
  },
  {
   "cell_type": "markdown",
   "metadata": {},
   "source": [
    "### BERTScore - using SapBERT"
   ]
  },
  {
   "cell_type": "code",
   "execution_count": 161,
   "metadata": {},
   "outputs": [
    {
     "name": "stdout",
     "output_type": "stream",
     "text": [
      "BERTScore F1: 0.6864\n",
      "BERTScore F1: 0.7081\n"
     ]
    },
    {
     "name": "stderr",
     "output_type": "stream",
     "text": [
      "Warning: Baseline not Found for cambridgeltl/SapBERT-from-PubMedBERT-fulltext on en at /home/yl3427/miniconda3/envs/vllm_env/lib/python3.9/site-packages/bert_score/rescale_baseline/en/cambridgeltl/SapBERT-from-PubMedBERT-fulltext.tsv\n"
     ]
    }
   ],
   "source": [
    "model_name = \"cambridgeltl/SapBERT-from-PubMedBERT-fulltext\"\n",
    "\n",
    "predictions = ['CAD s/p CABG; recent NSTEMI; HTN; CKD; cholangitis; hypotension (resolved)',\n",
    "               'ESRD on HD; HTN; HL; acute CHF exacerbation; NSTEMI; s/p cath with DES in LAD and LMCA.']\n",
    "\n",
    "references = ['# Cholangitis; CAD; HTN; AoCRF',\n",
    "              'S/P NSTEMI; HTN; Chronic renal failure; HL']\n",
    "\n",
    "P, R, F1 = score(predictions, references, model_type=model_name, lang=\"en\", rescale_with_baseline=True, num_layers=12)\n",
    "\n",
    "for i in range(len(predictions)):\n",
    "    print(f\"BERTScore F1: {F1[i]:.4f}\")"
   ]
  },
  {
   "cell_type": "code",
   "execution_count": 108,
   "metadata": {},
   "outputs": [
    {
     "name": "stdout",
     "output_type": "stream",
     "text": [
      "BERTScore F1: 0.5303\n",
      "BERTScore F1: 0.7943\n",
      "BERTScore F1: 0.4721\n",
      "BERTScore F1: 0.5772\n",
      "BERTScore F1: 0.6488\n",
      "BERTScore F1: 0.7530\n",
      "BERTScore F1: 0.5993\n",
      "BERTScore F1: 0.8016\n",
      "BERTScore F1: 0.8617\n",
      "BERTScore F1: 0.1807\n",
      "BERTScore F1: 0.5046\n",
      "BERTScore F1: 0.5235\n",
      "BERTScore F1: 0.6250\n",
      "BERTScore F1: 0.6284\n",
      "BERTScore F1: 0.5627\n",
      "BERTScore F1: 0.8303\n",
      "BERTScore F1: 0.6942\n",
      "BERTScore F1: 0.6233\n",
      "BERTScore F1: 0.5613\n",
      "BERTScore F1: 0.5967\n",
      "BERTScore F1: 0.6888\n",
      "BERTScore F1: 0.6534\n",
      "BERTScore F1: 0.7050\n",
      "BERTScore F1: 0.7630\n",
      "BERTScore F1: 0.8544\n",
      "BERTScore F1: 0.8415\n",
      "BERTScore F1: 0.8873\n",
      "BERTScore F1: 0.7681\n",
      "BERTScore F1: 0.6788\n",
      "BERTScore F1: 0.6820\n",
      "BERTScore F1: 0.4442\n",
      "BERTScore F1: 0.6995\n",
      "BERTScore F1: 0.6105\n",
      "BERTScore F1: 0.7246\n",
      "BERTScore F1: 0.8055\n",
      "BERTScore F1: 0.7848\n",
      "BERTScore F1: 0.5495\n",
      "BERTScore F1: 0.5635\n",
      "BERTScore F1: 0.6460\n",
      "BERTScore F1: 0.7968\n",
      "BERTScore F1: 0.7658\n",
      "BERTScore F1: 0.8370\n",
      "BERTScore F1: 0.6432\n",
      "BERTScore F1: 0.5750\n",
      "BERTScore F1: 0.5535\n",
      "BERTScore F1: 0.6493\n",
      "BERTScore F1: 0.5766\n",
      "BERTScore F1: 0.7504\n",
      "BERTScore F1: 0.8052\n",
      "BERTScore F1: 0.7223\n",
      "BERTScore F1: 0.5372\n",
      "BERTScore F1: 0.6735\n",
      "BERTScore F1: 0.7603\n",
      "BERTScore F1: 0.6052\n",
      "BERTScore F1: 0.7107\n",
      "BERTScore F1: 0.6356\n",
      "BERTScore F1: 0.7380\n",
      "BERTScore F1: 0.8735\n",
      "BERTScore F1: 0.5286\n",
      "BERTScore F1: 0.7477\n",
      "BERTScore F1: 0.4034\n",
      "BERTScore F1: 0.6647\n",
      "BERTScore F1: 0.7578\n",
      "BERTScore F1: 0.7651\n",
      "BERTScore F1: 0.6327\n",
      "BERTScore F1: 0.8555\n",
      "BERTScore F1: 0.7794\n",
      "BERTScore F1: 0.6360\n",
      "BERTScore F1: 0.8199\n",
      "BERTScore F1: 0.7823\n",
      "BERTScore F1: 0.7163\n",
      "BERTScore F1: 0.5498\n",
      "BERTScore F1: 0.5622\n",
      "BERTScore F1: 0.6295\n",
      "BERTScore F1: 0.8620\n",
      "BERTScore F1: 0.6212\n",
      "BERTScore F1: 0.7573\n",
      "BERTScore F1: 0.5577\n",
      "BERTScore F1: 0.6461\n",
      "BERTScore F1: 0.6846\n",
      "BERTScore F1: 0.7703\n",
      "BERTScore F1: 0.7512\n",
      "BERTScore F1: 0.5515\n",
      "BERTScore F1: 0.6358\n",
      "BERTScore F1: 0.6982\n",
      "BERTScore F1: 0.6839\n",
      "BERTScore F1: 0.7755\n",
      "BERTScore F1: 0.7920\n",
      "BERTScore F1: 0.6359\n"
     ]
    },
    {
     "name": "stderr",
     "output_type": "stream",
     "text": [
      "Warning: Baseline not Found for cambridgeltl/SapBERT-from-PubMedBERT-fulltext on en at /home/yl3427/miniconda3/envs/vllm_env/lib/python3.9/site-packages/bert_score/rescale_baseline/en/cambridgeltl/SapBERT-from-PubMedBERT-fulltext.tsv\n"
     ]
    }
   ],
   "source": [
    "# Example using BioBERT as a substitute for SapBERT\n",
    "model_name = \"cambridgeltl/SapBERT-from-PubMedBERT-fulltext\"\n",
    "\n",
    "# Define your predictions and references\n",
    "predictions = sa_zs_df['pred'].tolist()\n",
    "references = ground_truth.tolist()\n",
    "\n",
    "# Compute BERTScore\n",
    "P, R, F1 = score(predictions, references, model_type=model_name, lang=\"en\", rescale_with_baseline=True, num_layers=12)\n",
    "\n",
    "for i in range(len(predictions)):\n",
    "    print(f\"BERTScore F1: {F1[i]:.4f}\")"
   ]
  },
  {
   "cell_type": "markdown",
   "metadata": {},
   "source": [
    "### Sentence Embedding (the last hidden layer)"
   ]
  },
  {
   "cell_type": "code",
   "execution_count": 66,
   "metadata": {},
   "outputs": [],
   "source": [
    "tokenizer = AutoTokenizer.from_pretrained(model_name)\n",
    "model = AutoModel.from_pretrained(model_name)"
   ]
  },
  {
   "cell_type": "code",
   "execution_count": 67,
   "metadata": {},
   "outputs": [
    {
     "data": {
      "text/plain": [
       "BertModel(\n",
       "  (embeddings): BertEmbeddings(\n",
       "    (word_embeddings): Embedding(30522, 768, padding_idx=0)\n",
       "    (position_embeddings): Embedding(512, 768)\n",
       "    (token_type_embeddings): Embedding(2, 768)\n",
       "    (LayerNorm): LayerNorm((768,), eps=1e-12, elementwise_affine=True)\n",
       "    (dropout): Dropout(p=0.1, inplace=False)\n",
       "  )\n",
       "  (encoder): BertEncoder(\n",
       "    (layer): ModuleList(\n",
       "      (0-11): 12 x BertLayer(\n",
       "        (attention): BertAttention(\n",
       "          (self): BertSdpaSelfAttention(\n",
       "            (query): Linear(in_features=768, out_features=768, bias=True)\n",
       "            (key): Linear(in_features=768, out_features=768, bias=True)\n",
       "            (value): Linear(in_features=768, out_features=768, bias=True)\n",
       "            (dropout): Dropout(p=0.1, inplace=False)\n",
       "          )\n",
       "          (output): BertSelfOutput(\n",
       "            (dense): Linear(in_features=768, out_features=768, bias=True)\n",
       "            (LayerNorm): LayerNorm((768,), eps=1e-12, elementwise_affine=True)\n",
       "            (dropout): Dropout(p=0.1, inplace=False)\n",
       "          )\n",
       "        )\n",
       "        (intermediate): BertIntermediate(\n",
       "          (dense): Linear(in_features=768, out_features=3072, bias=True)\n",
       "          (intermediate_act_fn): GELUActivation()\n",
       "        )\n",
       "        (output): BertOutput(\n",
       "          (dense): Linear(in_features=3072, out_features=768, bias=True)\n",
       "          (LayerNorm): LayerNorm((768,), eps=1e-12, elementwise_affine=True)\n",
       "          (dropout): Dropout(p=0.1, inplace=False)\n",
       "        )\n",
       "      )\n",
       "    )\n",
       "  )\n",
       "  (pooler): BertPooler(\n",
       "    (dense): Linear(in_features=768, out_features=768, bias=True)\n",
       "    (activation): Tanh()\n",
       "  )\n",
       ")"
      ]
     },
     "execution_count": 67,
     "metadata": {},
     "output_type": "execute_result"
    }
   ],
   "source": [
    "device = torch.device('cuda:5' if torch.cuda.is_available() else 'cpu')\n",
    "model.to(device)"
   ]
  },
  {
   "cell_type": "code",
   "execution_count": 68,
   "metadata": {},
   "outputs": [],
   "source": [
    "def get_sentence_embedding(text):\n",
    "    inputs = tokenizer(text, return_tensors='pt', truncation=True, max_length=1024) # , truncation=True, max_length=1024\n",
    "    inputs = {k: v.to(device) for k, v in inputs.items()}\n",
    "    with torch.no_grad():\n",
    "        outputs = model(**inputs)\n",
    "    # Take the mean of the last hidden states\n",
    "    embeddings = outputs.last_hidden_state.mean(dim=1).cpu().numpy()\n",
    "    return embeddings"
   ]
  },
  {
   "cell_type": "code",
   "execution_count": 162,
   "metadata": {},
   "outputs": [
    {
     "name": "stdout",
     "output_type": "stream",
     "text": [
      "Sentence Embedding Cosine Similarity: 0.6855\n",
      "Sentence Embedding Cosine Similarity: 0.7301\n"
     ]
    }
   ],
   "source": [
    "predictions = ['CAD s/p CABG; recent NSTEMI; HTN; CKD; cholangitis; hypotension (resolved)',\n",
    "               'ESRD on HD; HTN; HL; acute CHF exacerbation; NSTEMI; s/p cath with DES in LAD and LMCA.']\n",
    "\n",
    "references = ['# Cholangitis; CAD; HTN; AoCRF',\n",
    "              'S/P NSTEMI; HTN; Chronic renal failure; HL']\n",
    "\n",
    "\n",
    "pred_embeddings = [get_sentence_embedding(pred) for pred in predictions]\n",
    "ref_embeddings = [get_sentence_embedding(ref) for ref in references]\n",
    "\n",
    "for pred_emb, ref_emb in zip(pred_embeddings, ref_embeddings):\n",
    "    cos_sim = cosine_similarity(pred_emb, ref_emb)[0][0]\n",
    "    print(f\"Sentence Embedding Cosine Similarity: {cos_sim:.4f}\")"
   ]
  },
  {
   "cell_type": "code",
   "execution_count": 98,
   "metadata": {},
   "outputs": [
    {
     "data": {
      "text/plain": [
       "array([-1.27473426e+00,  1.14982224e+00,  1.59178317e-01, -1.58149134e-02,\n",
       "       -3.00850756e-02,  8.38229895e-01, -7.47969598e-02,  9.24611315e-02,\n",
       "        1.56802416e-01, -1.09584615e-01, -8.18211436e-02,  3.61887783e-01,\n",
       "       -3.33906114e-01,  1.77034795e-01, -4.07884240e-01,  5.33148885e-01,\n",
       "        1.25509143e-01,  2.76233792e-01, -7.53015280e-01,  2.70296991e-01,\n",
       "        1.07255197e+00,  9.00899529e-01, -2.46315569e-01, -3.50704432e-01,\n",
       "       -3.49676400e-01,  5.57414055e-01, -1.10942960e-01,  7.61503160e-01,\n",
       "        1.09017208e-01, -9.14196372e-01, -5.83698690e-01, -3.62480849e-01,\n",
       "        3.00618291e-01,  8.13169599e-01,  2.96523660e-01, -3.95457149e-01,\n",
       "       -1.13996472e-02, -3.04619759e-01,  2.18756497e-01,  8.19626033e-01,\n",
       "        7.56906390e-01, -5.95983386e-01, -3.27615738e-01,  2.78213084e-01,\n",
       "       -2.89360493e-01, -7.85137296e-01, -3.29415761e-02, -4.69540775e-01,\n",
       "       -1.73708394e-01,  4.00951505e-01, -3.89522731e-01, -1.21252999e-01,\n",
       "       -5.64650536e-01,  8.36360082e-02, -5.65545917e-01,  1.05773342e+00,\n",
       "       -5.62052608e-01, -2.20065594e-01, -9.10747349e-01, -9.25772712e-02,\n",
       "        8.63630056e-01, -2.55109042e-01, -2.60901213e-01, -2.61545867e-01,\n",
       "        4.51290309e-01, -3.38623524e-01, -8.21664155e-01, -2.24774852e-01,\n",
       "        7.90921301e-02, -2.75440753e-01,  6.54384851e-01, -8.44877306e-03,\n",
       "        3.23448814e-02, -3.28551412e-01,  8.69021833e-01,  3.64293456e-01,\n",
       "        1.27342492e-01, -4.40147161e-01, -6.32126808e-01,  5.01097322e-01,\n",
       "        2.55333185e-01,  7.58751094e-01, -5.38414419e-01, -3.07484299e-01,\n",
       "        3.03893894e-01,  4.64575738e-02,  7.02844739e-01,  1.45279421e-02,\n",
       "       -3.09193254e-01, -1.09231062e-01,  1.06249511e+00,  6.30125552e-02,\n",
       "       -5.32083511e-01, -1.30898452e+00,  1.20001473e-02, -2.41855025e-01,\n",
       "       -4.12510425e-01, -2.58921444e-01,  4.82523113e-01,  3.23851228e-01,\n",
       "        1.17256425e-01,  5.01166165e-01,  2.33472213e-01,  5.87112486e-01,\n",
       "        1.34713173e+00, -3.33721936e-01,  6.88535199e-02, -5.81450999e-01,\n",
       "       -3.98040235e-01,  4.11715418e-01, -2.15265304e-01, -8.52879822e-01,\n",
       "        1.50673270e-01,  3.49598199e-01, -3.95466089e-01,  4.63220745e-01,\n",
       "       -5.24031758e-01, -2.55327761e-01, -6.55304670e-01, -1.14475369e-01,\n",
       "       -7.17148900e-01, -1.04009748e+00,  3.40795398e-01, -1.19422090e+00,\n",
       "        1.06130570e-01,  2.50389844e-01,  5.71851254e-01, -1.56079933e-01,\n",
       "        1.82063095e-02,  3.46924126e-01,  1.59151763e-01, -7.21150860e-02,\n",
       "        7.99610168e-02, -1.70525700e-01, -2.94419199e-01,  1.91838831e-01,\n",
       "       -8.02803874e-01,  6.33866012e-01,  1.28947319e-02, -5.37903130e-01,\n",
       "       -2.57735699e-01, -3.98433283e-02,  4.24045354e-01, -1.19012892e+00,\n",
       "       -3.97111565e-01,  8.83565396e-02,  6.39159381e-02, -2.60394692e-01,\n",
       "       -8.93669352e-02, -1.41611695e-01,  2.59972513e-02, -6.69405699e-01,\n",
       "        1.56223729e-01,  5.32763243e-01,  1.49866626e-01,  2.95169830e-01,\n",
       "        2.23111823e-01,  3.15249145e-01, -3.23216379e-01,  4.27778214e-01,\n",
       "        8.19688514e-02, -9.29366589e-01,  7.25744903e-01,  2.14006141e-01,\n",
       "        7.05243945e-01, -2.83067405e-01, -5.36689639e-01, -4.53915149e-02,\n",
       "       -1.83388636e-01, -2.33704627e-01,  3.28066766e-01,  2.35720083e-01,\n",
       "       -6.11417949e-01,  5.94751537e-02, -2.37689406e-01, -1.88976564e-02,\n",
       "        3.13114524e-01,  1.43327057e-01, -8.75544488e-01,  2.30807960e-02,\n",
       "       -4.69215095e-01, -7.64606476e-01, -1.55456722e-01, -1.20049310e+00,\n",
       "       -1.65522978e-01,  1.52178124e-01,  6.40640140e-01, -2.35528767e-01,\n",
       "       -9.66557622e-01,  3.26119244e-01, -2.32190162e-01, -1.76426232e-01,\n",
       "       -3.74111861e-01,  7.22106934e-01, -9.99525905e-01, -8.05753842e-02,\n",
       "       -1.34570420e-01,  2.73365051e-01,  9.74744707e-02, -3.12906265e-01,\n",
       "        7.23706977e-03,  1.31901205e-02, -4.70837474e-01,  8.37079644e-01,\n",
       "        9.72963125e-02, -1.96935579e-01,  3.98887008e-01, -1.08015863e-02,\n",
       "        3.37933376e-02,  4.71985191e-01,  8.84844303e-01, -1.61598623e-01,\n",
       "        5.19020855e-01, -6.12814426e-01,  2.82855004e-01,  1.78089380e-01,\n",
       "       -1.94060683e-01,  8.41168284e-01,  3.41116935e-02, -4.05319452e-01,\n",
       "       -3.71347591e-02, -6.89678788e-02, -4.82930541e-01,  3.78523162e-03,\n",
       "        9.66678739e-01, -4.48602676e-01, -7.69716442e-01, -3.07487100e-02,\n",
       "        9.84489501e-01,  4.87060368e-01,  4.60441172e-01, -5.11749275e-02,\n",
       "        2.80921727e-01, -7.01022893e-02, -2.18783125e-01, -5.41409217e-02,\n",
       "       -6.00186408e-01,  7.52269745e-01, -2.72228628e-01, -6.43111169e-01,\n",
       "        2.99011976e-01, -3.08475852e-01, -1.93438739e-01,  5.56865990e-01,\n",
       "       -1.42922290e-02, -2.39965826e-01,  1.32383093e-01, -7.66707361e-01,\n",
       "        5.43202281e-01, -9.25367594e-01, -2.34018266e-02,  3.72839421e-01,\n",
       "       -2.82767564e-01,  7.26476073e-01, -2.21793234e-01,  2.88874298e-01,\n",
       "       -7.33936429e-02, -9.69733238e-01, -7.40443408e-01,  1.72908008e-01,\n",
       "       -6.58819139e-01,  3.71351540e-01,  4.27516252e-01,  4.01418328e-01,\n",
       "       -3.51025015e-01,  1.23384237e-01, -5.99935412e-01, -2.19748601e-01,\n",
       "       -1.69986263e-02, -8.77566636e-01, -3.99551123e-01, -1.71154514e-01,\n",
       "       -7.26647079e-02,  3.99459809e-01,  4.34874415e-01,  5.19026279e-01,\n",
       "        1.15116052e-01, -2.90543318e-01, -4.71067578e-01, -3.17184716e-01,\n",
       "       -6.48835748e-02,  7.74077356e-01, -5.89547098e-01,  3.25901628e-01,\n",
       "       -3.37202311e-01,  1.35244161e-01,  3.30835432e-01,  2.45453268e-01,\n",
       "        4.40054357e-01,  5.84917441e-02, -3.60921025e-02, -1.16142416e+00,\n",
       "       -3.96448314e-01, -1.15683889e+00,  1.53631374e-01, -2.00721800e-01,\n",
       "       -2.75869071e-01,  8.89453515e-02, -9.16407332e-02, -6.29203916e-01,\n",
       "       -3.23698759e-01, -8.08382988e-01,  4.47853953e-01, -3.97122532e-01,\n",
       "        4.39968765e-01, -3.49496186e-01, -1.29556777e-02, -3.05542462e-02,\n",
       "        4.63350713e-02,  6.12453878e-01, -2.27565512e-01, -1.12107038e+00,\n",
       "       -2.18281010e-03,  3.24749261e-01, -8.61330889e-03, -7.83800483e-01,\n",
       "        7.60179579e-01, -2.27634996e-01, -6.01486802e-01, -2.96647072e-01,\n",
       "        9.25123692e-01, -3.96227479e-01, -4.91037965e-02,  1.91322207e-01,\n",
       "       -5.44267058e-01, -3.82541627e-01,  4.09523189e-01,  1.29865870e-01,\n",
       "        1.21957815e+00, -6.10283673e-01, -4.66521308e-02, -4.79373425e-01,\n",
       "        8.00849915e-01, -7.68461078e-02,  1.68500155e-01,  1.20391056e-01,\n",
       "        3.60702872e-02, -1.72920004e-01,  3.54933143e-01, -1.07321404e-01,\n",
       "        7.88304865e-01,  8.24334979e-01, -5.58788776e-01,  4.83048677e-01,\n",
       "        3.36366624e-01, -5.49140811e-01, -2.27357030e-01, -4.65013325e-01,\n",
       "        1.43617243e-02, -3.01035970e-01,  5.10527790e-01, -8.90836585e-03,\n",
       "       -7.83338785e-01, -5.21609724e-01,  5.65026343e-01, -2.70644546e-01,\n",
       "        2.06872344e-01, -9.56218719e-01,  7.39435852e-01, -5.94191909e-01,\n",
       "       -1.35874122e-01,  7.39768296e-02,  2.07143165e-02, -7.84609199e-01,\n",
       "        5.47115266e-01,  3.55371028e-01,  3.12953919e-01,  3.70868385e-01,\n",
       "       -8.49620640e-01, -1.54024825e-01,  9.78657246e-01,  1.62376434e-01,\n",
       "        1.63430527e-01,  3.99640799e-01, -8.98674726e-02,  2.19750091e-01,\n",
       "        1.75319865e-01, -9.41277146e-01, -4.03749913e-01, -5.86534321e-01,\n",
       "       -3.53376046e-02,  3.56041998e-01, -2.99328029e-01,  4.43401337e-01,\n",
       "        7.91292310e-01, -5.30619681e-01, -2.02313855e-01,  7.94840038e-01,\n",
       "        5.79343617e-01,  4.12445158e-01, -2.55383193e-01,  4.58657146e-01,\n",
       "        5.22765458e-01,  5.24042487e-01,  5.56786716e-01, -3.60359311e-01,\n",
       "       -1.11262858e-01, -2.17976868e-01,  4.25411761e-01,  7.36384034e-01,\n",
       "        4.93754357e-01, -8.19865882e-01, -3.62757027e-01, -3.42384011e-01,\n",
       "        1.49440363e-01, -5.29922366e-01,  1.07870832e-01, -1.03739329e-01,\n",
       "        6.14718914e-01, -4.91567492e-01, -6.38438046e-01,  1.31077504e+00,\n",
       "        6.73917174e-01,  2.57383704e-01,  2.23626107e-01, -5.62048852e-01,\n",
       "       -3.79184969e-02,  4.55571681e-01, -1.38485575e+00, -4.53216851e-01,\n",
       "       -6.61670208e-01,  3.17814171e-01, -4.67381269e-01, -2.16983393e-01,\n",
       "       -6.30537176e+00, -4.96158563e-03,  3.53675365e-01, -4.23272736e-02,\n",
       "        1.18277979e+00,  6.30640462e-02, -4.12293911e-01,  5.62808394e-01,\n",
       "        7.19480932e-01, -2.21911222e-01,  2.08252698e-01,  5.47463894e-01,\n",
       "        1.93022013e-01, -1.10011458e+00, -7.46407807e-01,  7.59106576e-01,\n",
       "        1.01419067e+00, -4.69800122e-02, -4.16643396e-02, -6.54844820e-01,\n",
       "        3.38461697e-01, -1.34341931e+00,  1.57015204e-01,  1.83061466e-01,\n",
       "       -2.55278647e-01,  1.20879367e-01,  3.03574890e-01, -1.71783179e-01,\n",
       "        2.46154845e-01,  1.97958782e-01,  1.97654098e-01,  1.99505746e-01,\n",
       "       -4.24790651e-01, -3.88130873e-01,  3.18751112e-02, -3.53983697e-03,\n",
       "        7.60887623e-01, -2.60979701e-02, -7.36860871e-01,  1.88614026e-01,\n",
       "        7.51770064e-02, -2.43607640e-01,  8.28761637e-01,  1.21051550e-01,\n",
       "       -7.52108634e-01,  4.73067403e-01, -9.57315326e-01, -9.76783335e-01,\n",
       "       -1.72492951e-01,  1.16013408e-01,  1.38567889e+00, -1.02242470e+00,\n",
       "        3.21434475e-02, -5.42409182e-01, -1.02001786e+00,  4.20880407e-01,\n",
       "        1.35410774e+00,  2.44504362e-01,  9.02289748e-02, -3.01404968e-02,\n",
       "       -2.01723158e-01, -9.91754472e-01, -8.46327901e-01,  3.68185103e-01,\n",
       "        2.14548856e-01, -6.76548898e-01,  6.97401881e-01, -4.98411179e-01,\n",
       "       -4.82234061e-01, -4.57486033e-01, -2.81835824e-01, -4.04889762e-01,\n",
       "        6.14654183e-01,  6.61487281e-01, -3.62484038e-01,  3.93427685e-02,\n",
       "        3.67832705e-02,  5.07537603e-01,  7.42029309e-01, -2.96593010e-01,\n",
       "        6.06356740e-01,  6.78035080e-01,  2.79815700e-02,  2.63480395e-01,\n",
       "       -4.16755795e-01,  7.19234049e-01, -3.18305701e-01, -2.65084356e-01,\n",
       "       -1.79710045e-01,  7.25481659e-02, -2.25802630e-01, -1.12721927e-01,\n",
       "       -2.85372794e-01, -3.18253249e-01, -1.53281987e-01,  4.36931074e-01,\n",
       "       -7.90186107e-01,  7.11328208e-01, -5.84997058e-01, -8.17255303e-03,\n",
       "        1.49607077e-01,  6.02241814e-01,  1.03174520e+00, -7.44740725e-01,\n",
       "       -1.78013727e-01,  3.80640984e-01, -3.08712304e-01,  2.97304481e-01,\n",
       "       -2.46277764e-01, -1.57830298e-01,  2.91557312e-01,  4.72387344e-01,\n",
       "        3.45273674e-01, -3.45584482e-01, -5.67838728e-01, -4.93556380e-01,\n",
       "       -1.08905649e+00, -8.20849240e-01, -1.83591992e-01,  1.65124655e-01,\n",
       "       -5.01556695e-01, -4.51950699e-01,  1.28340065e-01,  3.93939167e-01,\n",
       "       -9.61514533e-01,  8.23478997e-01, -6.44502342e-01, -2.29599401e-01,\n",
       "        8.91432524e-01, -2.05106348e-01,  2.36148521e-01,  2.87423253e-01,\n",
       "       -6.28749967e-01,  1.72937244e-01, -4.35256153e-01, -1.33957133e-01,\n",
       "        1.13151670e-01,  5.83829045e-01,  2.90430963e-01, -1.82734326e-01,\n",
       "        8.56444955e-01,  2.97404826e-01,  4.77856517e-01,  5.93441665e-01,\n",
       "       -1.58537254e-01,  6.24470301e-02,  3.66256051e-02,  4.50692594e-01,\n",
       "        2.69645751e-01, -8.53492096e-02,  1.48413345e-01,  1.03989631e-01,\n",
       "        4.09695268e-01, -6.61220133e-01, -7.36043677e-02, -1.02793992e+00,\n",
       "        4.00476068e-01,  6.50160134e-01, -1.24509176e-02,  1.40168548e-01,\n",
       "       -1.08880424e+00, -8.41607332e-01, -2.47618735e-01, -3.12790215e-01,\n",
       "       -1.95016965e-01,  2.94466704e-01,  6.52372718e-01,  2.87922949e-01,\n",
       "       -4.22453701e-01, -4.01634686e-02, -1.58765987e-01, -4.43070382e-01,\n",
       "       -2.94127941e-01,  1.39381021e-01,  4.57910836e-01,  9.12226617e-01,\n",
       "        5.66237085e-02,  1.96532547e-01,  5.95542252e-01, -4.81862910e-02,\n",
       "       -4.00406063e-01,  1.03068304e+00,  6.00799263e-01,  5.42910695e-01,\n",
       "       -6.61815166e-01, -2.98069954e-01, -1.99664518e-01,  2.55074739e-01,\n",
       "        3.32187235e-01, -3.49975258e-01, -2.26814166e-01,  1.07687838e-01,\n",
       "        6.17180705e-01, -8.35248113e-01, -4.10752371e-02, -5.13372540e-01,\n",
       "       -9.29155111e-01,  9.35199976e-01, -1.06069613e+00, -4.68964577e-01,\n",
       "       -4.12708102e-03,  4.58700866e-01, -3.32690954e-01, -1.51270442e-02,\n",
       "        9.23844893e-03,  1.56749189e-01,  3.89718652e-01,  7.63833463e-01,\n",
       "        4.82505053e-01,  5.26543140e-01,  1.33772349e+00,  2.95429621e-02,\n",
       "       -2.87985414e-01,  2.00389370e-01,  1.70219600e-01, -5.01008093e-01,\n",
       "       -8.87962244e-03, -6.11713648e-01, -2.45692119e-01,  2.65057594e-01,\n",
       "       -2.50833426e-02, -2.54722815e-02, -1.82107747e-01,  1.50300488e-01,\n",
       "       -4.25076604e-01,  8.82754564e-01,  7.68229306e-01,  2.73756146e-01,\n",
       "       -3.97293150e-01, -1.75555274e-01,  3.82569134e-02, -9.09594536e-01,\n",
       "        6.81506872e-01,  5.17957211e-01, -2.75381282e-02,  1.14647247e-01,\n",
       "       -8.91745329e-01, -9.90556106e-02, -9.29485798e-01, -3.09864938e-01,\n",
       "       -2.99083203e-01,  3.43473077e-01, -5.89651167e-01,  4.22183782e-01,\n",
       "        1.26462996e-01, -1.32923469e-01,  1.97782665e-01,  5.40571809e-01,\n",
       "       -8.19725454e-01, -3.91251892e-01,  5.18584013e-01, -7.73137331e-01,\n",
       "        1.27726763e-01, -3.75523210e-01, -1.34052947e-01,  6.47802353e-02,\n",
       "       -6.34427905e-01, -5.56954265e-01, -2.74376720e-01,  2.41675571e-01,\n",
       "       -9.51334357e-01,  2.03675479e-01,  5.48047662e-01,  5.31653404e-01,\n",
       "       -5.33925951e-01,  4.33519967e-02, -5.67885995e-01, -1.12959826e+00,\n",
       "        5.27936146e-02,  6.95664525e-01, -1.10302734e+00, -1.55512826e-03,\n",
       "       -2.66327947e-01,  4.62307006e-01,  5.30329406e-01, -4.00063436e-04,\n",
       "       -9.93856937e-02, -1.90097261e-02,  8.33730251e-02,  1.02740161e-01,\n",
       "        1.70505077e-01,  2.48949409e-01,  1.00428271e+00,  3.70942622e-01,\n",
       "        6.66691780e-01,  5.43046236e-01,  2.18038186e-01,  8.20931017e-01,\n",
       "       -3.22465479e-01, -7.26395130e-01,  4.49405499e-02, -1.52136669e-01,\n",
       "       -1.31349072e-01,  4.10106093e-01,  7.29683459e-01,  5.75536251e-01,\n",
       "       -6.54286861e-01, -5.18235743e-01, -4.16470617e-02,  5.26266575e-01,\n",
       "       -2.06610575e-01, -1.09567332e+00, -1.27491266e-01,  6.23642623e-01,\n",
       "       -9.29275341e-03,  9.00769383e-02, -5.24462581e-01, -5.61974704e-01,\n",
       "       -4.60928261e-01,  1.78479880e-01, -5.03449261e-01,  1.78962171e-01,\n",
       "        3.92452002e-01, -3.75204146e-01,  5.97876668e-01, -1.76155823e-03,\n",
       "        1.57872528e-01,  2.60450095e-01,  4.94071126e-01, -1.21810094e-01,\n",
       "        4.09949601e-01, -1.06209598e-01,  3.49324703e-01,  1.20089650e-01,\n",
       "       -2.11452827e-01,  3.96596402e-01, -3.67647052e-01,  1.02177337e-01,\n",
       "        3.13877821e-01,  2.09484130e-01,  3.23491275e-01,  2.76119798e-01,\n",
       "       -2.10088059e-01,  5.42086363e-01,  9.39550996e-02,  5.05938604e-02,\n",
       "        2.84306020e-01, -2.18662009e-01, -5.17766297e-01, -4.38691765e-01,\n",
       "        8.23819160e-01, -2.04389930e-01,  3.82432103e-01,  4.61888283e-01],\n",
       "      dtype=float32)"
      ]
     },
     "execution_count": 98,
     "metadata": {},
     "output_type": "execute_result"
    }
   ],
   "source": [
    "pred_embeddings[0][0]"
   ]
  },
  {
   "cell_type": "code",
   "execution_count": 99,
   "metadata": {},
   "outputs": [
    {
     "data": {
      "text/plain": [
       "array([[0.76647013]], dtype=float32)"
      ]
     },
     "execution_count": 99,
     "metadata": {},
     "output_type": "execute_result"
    }
   ],
   "source": [
    "cosine_similarity(pred_embeddings[0], ref_embeddings[0])"
   ]
  },
  {
   "cell_type": "code",
   "execution_count": null,
   "metadata": {},
   "outputs": [],
   "source": []
  },
  {
   "cell_type": "markdown",
   "metadata": {},
   "source": [
    "### ALL"
   ]
  },
  {
   "cell_type": "code",
   "execution_count": null,
   "metadata": {},
   "outputs": [],
   "source": [
    "rg_scorer = rouge_scorer.RougeScorer(['rougeL'], use_stemmer=True)\n",
    "model_name = \"cambridgeltl/SapBERT-from-PubMedBERT-fulltext\"\n",
    "tokenizer = AutoTokenizer.from_pretrained(model_name)\n",
    "model = AutoModel.from_pretrained(model_name)\n",
    "device = torch.device('cuda:5' if torch.cuda.is_available() else 'cpu')\n",
    "model.to(device)"
   ]
  },
  {
   "cell_type": "code",
   "execution_count": null,
   "metadata": {},
   "outputs": [],
   "source": [
    "# def get_sentence_embedding(text):\n",
    "#     inputs = tokenizer(text, return_tensors='pt', truncation=True, max_length=1024) # , truncation=True, max_length=1024\n",
    "#     inputs = {k: v.to(device) for k, v in inputs.items()}\n",
    "#     with torch.no_grad():\n",
    "#         outputs = model(**inputs)\n",
    "#     # Take the mean of the last hidden states\n",
    "#     embeddings = outputs.last_hidden_state.max(dim=1).values.cpu().numpy()\n",
    "#     return embeddings\n",
    "def get_sentence_embedding(text):\n",
    "    inputs = tokenizer(text, return_tensors='pt', truncation=True, max_length=1024)\n",
    "    inputs = {k: v.to(device) for k, v in inputs.items()}\n",
    "    with torch.no_grad():\n",
    "        outputs = model(**inputs)\n",
    "    # Mean pooling\n",
    "    mean_embedding = outputs.last_hidden_state.mean(dim=1)\n",
    "    # Max pooling\n",
    "    max_embedding = outputs.last_hidden_state.max(dim=1).values\n",
    "    # Concatenate mean and max\n",
    "    combined_embedding = torch.cat((mean_embedding, max_embedding), dim=1).cpu().numpy()\n",
    "    return max_embedding.cpu().numpy()"
   ]
  },
  {
   "cell_type": "code",
   "execution_count": null,
   "metadata": {},
   "outputs": [
    {
     "name": "stdout",
     "output_type": "stream",
     "text": [
      "soa_zs\n"
     ]
    },
    {
     "name": "stderr",
     "output_type": "stream",
     "text": [
      "Warning: Baseline not Found for cambridgeltl/SapBERT-from-PubMedBERT-fulltext on en at /home/yl3427/miniconda3/envs/vllm_env/lib/python3.9/site-packages/bert_score/rescale_baseline/en/cambridgeltl/SapBERT-from-PubMedBERT-fulltext.tsv\n"
     ]
    },
    {
     "name": "stdout",
     "output_type": "stream",
     "text": [
      "sa_zs\n"
     ]
    },
    {
     "name": "stderr",
     "output_type": "stream",
     "text": [
      "Warning: Baseline not Found for cambridgeltl/SapBERT-from-PubMedBERT-fulltext on en at /home/yl3427/miniconda3/envs/vllm_env/lib/python3.9/site-packages/bert_score/rescale_baseline/en/cambridgeltl/SapBERT-from-PubMedBERT-fulltext.tsv\n"
     ]
    },
    {
     "name": "stdout",
     "output_type": "stream",
     "text": [
      "so_zs\n"
     ]
    },
    {
     "name": "stderr",
     "output_type": "stream",
     "text": [
      "Warning: Baseline not Found for cambridgeltl/SapBERT-from-PubMedBERT-fulltext on en at /home/yl3427/miniconda3/envs/vllm_env/lib/python3.9/site-packages/bert_score/rescale_baseline/en/cambridgeltl/SapBERT-from-PubMedBERT-fulltext.tsv\n"
     ]
    },
    {
     "name": "stdout",
     "output_type": "stream",
     "text": [
      "a_zs\n"
     ]
    },
    {
     "name": "stderr",
     "output_type": "stream",
     "text": [
      "Warning: Baseline not Found for cambridgeltl/SapBERT-from-PubMedBERT-fulltext on en at /home/yl3427/miniconda3/envs/vllm_env/lib/python3.9/site-packages/bert_score/rescale_baseline/en/cambridgeltl/SapBERT-from-PubMedBERT-fulltext.tsv\n"
     ]
    },
    {
     "name": "stdout",
     "output_type": "stream",
     "text": [
      "soa_os\n"
     ]
    },
    {
     "name": "stderr",
     "output_type": "stream",
     "text": [
      "Warning: Baseline not Found for cambridgeltl/SapBERT-from-PubMedBERT-fulltext on en at /home/yl3427/miniconda3/envs/vllm_env/lib/python3.9/site-packages/bert_score/rescale_baseline/en/cambridgeltl/SapBERT-from-PubMedBERT-fulltext.tsv\n"
     ]
    },
    {
     "name": "stdout",
     "output_type": "stream",
     "text": [
      "sa_os\n"
     ]
    },
    {
     "name": "stderr",
     "output_type": "stream",
     "text": [
      "Warning: Baseline not Found for cambridgeltl/SapBERT-from-PubMedBERT-fulltext on en at /home/yl3427/miniconda3/envs/vllm_env/lib/python3.9/site-packages/bert_score/rescale_baseline/en/cambridgeltl/SapBERT-from-PubMedBERT-fulltext.tsv\n"
     ]
    },
    {
     "name": "stdout",
     "output_type": "stream",
     "text": [
      "so_os\n"
     ]
    },
    {
     "name": "stderr",
     "output_type": "stream",
     "text": [
      "Warning: Baseline not Found for cambridgeltl/SapBERT-from-PubMedBERT-fulltext on en at /home/yl3427/miniconda3/envs/vllm_env/lib/python3.9/site-packages/bert_score/rescale_baseline/en/cambridgeltl/SapBERT-from-PubMedBERT-fulltext.tsv\n"
     ]
    },
    {
     "name": "stdout",
     "output_type": "stream",
     "text": [
      "a_os\n"
     ]
    },
    {
     "name": "stderr",
     "output_type": "stream",
     "text": [
      "Warning: Baseline not Found for cambridgeltl/SapBERT-from-PubMedBERT-fulltext on en at /home/yl3427/miniconda3/envs/vllm_env/lib/python3.9/site-packages/bert_score/rescale_baseline/en/cambridgeltl/SapBERT-from-PubMedBERT-fulltext.tsv\n"
     ]
    }
   ],
   "source": [
    "zs_df_lst = [(soa_zs_df, \"soa_zs\"), (sa_zs_df, \"sa_zs\"), (so_zs_df, \"so_zs\"), (a_zs_df, \"a_zs\")]\n",
    "os_df_lst = [(soa_os_df, \"soa_os\"), (sa_os_df, \"sa_os\"), (so_os_df, \"so_os\"), (a_os_df, \"a_os\")]\n",
    "ground_truth = filtered_df[\"Summary\"]\n",
    "\n",
    "zs_outer_dict = {}\n",
    "os_outer_dict = {}\n",
    "\n",
    "for zs_df, zs_name in zs_df_lst:\n",
    "    print(zs_name)\n",
    "    zs_outer_dict[zs_name] = {'rougeL': {'scores':[]}, 'bert_score': {'scores':[]}, 'sent_emb_sim': {'scores':[]}}\n",
    "    for pred, ref in zip(zs_df['pred'].tolist(), ground_truth.tolist()):\n",
    "\n",
    "        # Calculate ROUGE-L F-score\n",
    "        scores = rg_scorer.score(ref, pred)\n",
    "        rougeL_f = scores['rougeL'].fmeasure\n",
    "        zs_outer_dict[zs_name]['rougeL']['scores'].append(rougeL_f)\n",
    "\n",
    "        # Calculate embedding similarity\n",
    "        pred_emb = get_sentence_embedding(pred)\n",
    "        ref_emb = get_sentence_embedding(ref)\n",
    "        sim = cosine_similarity(pred_emb, ref_emb)[0][0]\n",
    "        zs_outer_dict[zs_name]['sent_emb_sim']['scores'].append(sim)\n",
    "\n",
    "    # Calculate BERTScore\n",
    "    _, _, bert_scores = score(zs_df['pred'].tolist(), ground_truth.tolist(), model_type=model_name, lang=\"en\", rescale_with_baseline=True, num_layers=12)\n",
    "    zs_outer_dict[zs_name]['bert_score']['scores'] = bert_scores.tolist()\n",
    "\n",
    "    zs_outer_dict[zs_name]['rougeL']['average'] = np.mean(zs_outer_dict[zs_name]['rougeL']['scores'])\n",
    "    zs_outer_dict[zs_name]['rougeL']['std'] = np.std(zs_outer_dict[zs_name]['rougeL']['scores'])\n",
    "\n",
    "    zs_outer_dict[zs_name]['bert_score']['average'] = np.mean(zs_outer_dict[zs_name]['bert_score']['scores'])\n",
    "    zs_outer_dict[zs_name]['bert_score']['std'] = np.std(zs_outer_dict[zs_name]['bert_score']['scores'])\n",
    "    \n",
    "    zs_outer_dict[zs_name]['sent_emb_sim']['average'] = np.mean(zs_outer_dict[zs_name]['sent_emb_sim']['scores'])\n",
    "    zs_outer_dict[zs_name]['sent_emb_sim']['std'] = np.std(zs_outer_dict[zs_name]['sent_emb_sim']['scores'])\n",
    "\n",
    "for os_df, os_name in os_df_lst:\n",
    "    print(os_name)\n",
    "    os_outer_dict[os_name] = {'rougeL': {'scores':[]}, 'bert_score': {'scores':[]}, 'sent_emb_sim': {'scores':[]}}\n",
    "    for pred, ref in zip(os_df['pred'].tolist(), ground_truth.tolist()):\n",
    "\n",
    "        # Calculate ROUGE-L F-score\n",
    "        scores = rg_scorer.score(ref, pred)\n",
    "        rougeL_f = scores['rougeL'].fmeasure\n",
    "        os_outer_dict[os_name]['rougeL']['scores'].append(rougeL_f)\n",
    "\n",
    "        # Calculate embedding similarity\n",
    "        pred_emb = get_sentence_embedding(pred)\n",
    "        ref_emb = get_sentence_embedding(ref)\n",
    "        sim = cosine_similarity(pred_emb, ref_emb)[0][0]\n",
    "        os_outer_dict[os_name]['sent_emb_sim']['scores'].append(sim)\n",
    "\n",
    "    # Calculate BERTScore\n",
    "    _, _, bert_scores = score(os_df['pred'].tolist(), ground_truth.tolist(), model_type=model_name, lang=\"en\", rescale_with_baseline=True, num_layers=12)\n",
    "    os_outer_dict[os_name]['bert_score']['scores'] = bert_scores.tolist()\n",
    "\n",
    "    os_outer_dict[os_name]['rougeL']['average'] = np.mean(os_outer_dict[os_name]['rougeL']['scores'])\n",
    "    os_outer_dict[os_name]['rougeL']['std'] = np.std(os_outer_dict[os_name]['rougeL']['scores'])\n",
    "\n",
    "    os_outer_dict[os_name]['bert_score']['average'] = np.mean(os_outer_dict[os_name]['bert_score']['scores'])\n",
    "    os_outer_dict[os_name]['bert_score']['std'] = np.std(os_outer_dict[os_name]['bert_score']['scores'])\n",
    "    \n",
    "    os_outer_dict[os_name]['sent_emb_sim']['average'] = np.mean(os_outer_dict[os_name]['sent_emb_sim']['scores'])\n",
    "    os_outer_dict[os_name]['sent_emb_sim']['std'] = np.std(os_outer_dict[os_name]['sent_emb_sim']['scores'])"
   ]
  },
  {
   "cell_type": "code",
   "execution_count": null,
   "metadata": {},
   "outputs": [
    {
     "name": "stdout",
     "output_type": "stream",
     "text": [
      "soa_zs ROUGE-L: 19.27 ± 12.61\n",
      "soa_zs BERTScore: 66.98 ± 11.80\n",
      "soa_zs Sentence Embedding Similarity: 68.60 ± 12.28\n",
      "-----------\n",
      "sa_zs ROUGE-L: 20.83 ± 12.59\n",
      "sa_zs BERTScore: 67.62 ± 12.00\n",
      "sa_zs Sentence Embedding Similarity: 68.99 ± 12.47\n",
      "-----------\n",
      "so_zs ROUGE-L: 7.47 ± 8.42\n",
      "so_zs BERTScore: 53.58 ± 12.50\n",
      "so_zs Sentence Embedding Similarity: 56.56 ± 13.57\n",
      "-----------\n",
      "a_zs ROUGE-L: 22.35 ± 13.62\n",
      "a_zs BERTScore: 68.52 ± 12.94\n",
      "a_zs Sentence Embedding Similarity: 69.60 ± 13.34\n",
      "-----------\n"
     ]
    }
   ],
   "source": [
    "#  Max Pooling\n",
    "for method in zs_outer_dict.keys():\n",
    "    print(f\"{method} ROUGE-L: {zs_outer_dict[method]['rougeL']['average'] * 100:.2f} ± {zs_outer_dict[method]['rougeL']['std'] * 100:.2f}\")\n",
    "    print(f\"{method} BERTScore: {zs_outer_dict[method]['bert_score']['average'] * 100:.2f} ± {zs_outer_dict[method]['bert_score']['std'] * 100:.2f}\")\n",
    "    print(f\"{method} Sentence Embedding Similarity: {zs_outer_dict[method]['sent_emb_sim']['average'] * 100:.2f} ± {zs_outer_dict[method]['sent_emb_sim']['std'] * 100:.2f}\")\n",
    "    print(\"-----------\")"
   ]
  },
  {
   "cell_type": "code",
   "execution_count": null,
   "metadata": {},
   "outputs": [
    {
     "name": "stdout",
     "output_type": "stream",
     "text": [
      "soa_os ROUGE-L: 22.64 ± 13.89\n",
      "soa_os BERTScore: 68.49 ± 11.90\n",
      "soa_os Sentence Embedding Similarity: 68.91 ± 12.22\n",
      "-----------\n",
      "sa_os ROUGE-L: 23.93 ± 13.74\n",
      "sa_os BERTScore: 68.14 ± 11.72\n",
      "sa_os Sentence Embedding Similarity: 68.38 ± 12.10\n",
      "-----------\n",
      "so_os ROUGE-L: 8.23 ± 9.96\n",
      "so_os BERTScore: 52.74 ± 13.23\n",
      "so_os Sentence Embedding Similarity: 53.68 ± 13.84\n",
      "-----------\n",
      "a_os ROUGE-L: 25.99 ± 15.55\n",
      "a_os BERTScore: 68.61 ± 13.57\n",
      "a_os Sentence Embedding Similarity: 68.68 ± 14.10\n",
      "-----------\n"
     ]
    }
   ],
   "source": [
    "for method in os_outer_dict.keys():\n",
    "    print(f\"{method} ROUGE-L: {os_outer_dict[method]['rougeL']['average'] * 100:.2f} ± {os_outer_dict[method]['rougeL']['std'] * 100:.2f}\")\n",
    "    print(f\"{method} BERTScore: {os_outer_dict[method]['bert_score']['average'] * 100:.2f} ± {os_outer_dict[method]['bert_score']['std'] * 100:.2f}\")\n",
    "    print(f\"{method} Sentence Embedding Similarity: {os_outer_dict[method]['sent_emb_sim']['average'] * 100:.2f} ± {os_outer_dict[method]['sent_emb_sim']['std'] * 100:.2f}\")\n",
    "    print(\"-----------\")"
   ]
  },
  {
   "cell_type": "code",
   "execution_count": null,
   "metadata": {},
   "outputs": [
    {
     "name": "stdout",
     "output_type": "stream",
     "text": [
      "soa_zs\n",
      "0.1927351545038894\n",
      "0.6697580941607443\n",
      "0.68596196\n",
      "-----------\n",
      "sa_zs\n",
      "0.20829924435646152\n",
      "0.6762044983968306\n",
      "0.68985057\n",
      "-----------\n",
      "so_zs\n",
      "0.07471598111256489\n",
      "0.5358337954189001\n",
      "0.565636\n",
      "-----------\n",
      "a_zs\n",
      "0.22350889743008542\n",
      "0.6852228117457936\n",
      "0.6959635\n",
      "-----------\n"
     ]
    }
   ],
   "source": [
    "# 마지막: Max Pooling\n",
    "for method in zs_outer_dict.keys():\n",
    "    print(method)\n",
    "    print(zs_outer_dict[method]['rougeL']['average'])\n",
    "    # print(zs_outer_dict[method]['rougeL']['std'])\n",
    "    print(zs_outer_dict[method]['bert_score']['average'])\n",
    "    # print(zs_outer_dict[method]['bert_score']['std'])\n",
    "    print(zs_outer_dict[method]['sent_emb_sim']['average'])\n",
    "    # print(zs_outer_dict[method]['sent_emb_sim']['std'])\n",
    "    print(\"-----------\")"
   ]
  },
  {
   "cell_type": "code",
   "execution_count": null,
   "metadata": {},
   "outputs": [
    {
     "name": "stdout",
     "output_type": "stream",
     "text": [
      "soa_zs\n",
      "0.1927351545038894\n",
      "0.6697580941607443\n",
      "0.66190165\n",
      "-----------\n",
      "sa_zs\n",
      "0.20829924435646152\n",
      "0.6762044983968306\n",
      "0.6685913\n",
      "-----------\n",
      "so_zs\n",
      "0.07471598111256489\n",
      "0.5358337954189001\n",
      "0.52832097\n",
      "-----------\n",
      "a_zs\n",
      "0.22350889743008542\n",
      "0.6852228117457936\n",
      "0.6769677\n",
      "-----------\n"
     ]
    }
   ],
   "source": [
    "# 마지막: Mean Pooling\n",
    "for method in zs_outer_dict.keys():\n",
    "    print(method)\n",
    "    print(zs_outer_dict[method]['rougeL']['average'])\n",
    "    # print(zs_outer_dict[method]['rougeL']['std'])\n",
    "    print(zs_outer_dict[method]['bert_score']['average'])\n",
    "    # print(zs_outer_dict[method]['bert_score']['std'])\n",
    "    print(zs_outer_dict[method]['sent_emb_sim']['average'])\n",
    "    # print(zs_outer_dict[method]['sent_emb_sim']['std'])\n",
    "    print(\"-----------\")"
   ]
  },
  {
   "cell_type": "code",
   "execution_count": null,
   "metadata": {},
   "outputs": [],
   "source": []
  }
 ],
 "metadata": {
  "kernelspec": {
   "display_name": "vllm_env",
   "language": "python",
   "name": "python3"
  },
  "language_info": {
   "codemirror_mode": {
    "name": "ipython",
    "version": 3
   },
   "file_extension": ".py",
   "mimetype": "text/x-python",
   "name": "python",
   "nbconvert_exporter": "python",
   "pygments_lexer": "ipython3",
   "version": "3.9.19"
  }
 },
 "nbformat": 4,
 "nbformat_minor": 2
}
