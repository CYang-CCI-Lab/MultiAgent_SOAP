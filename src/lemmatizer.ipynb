{
 "cells": [
  {
   "cell_type": "code",
   "execution_count": 2,
   "metadata": {},
   "outputs": [],
   "source": [
    "import nltk\n",
    "from nltk.tokenize import word_tokenize\n",
    "from nltk.stem import WordNetLemmatizer\n",
    "from nltk.corpus import wordnet\n",
    "import re\n",
    "import os"
   ]
  },
  {
   "cell_type": "code",
   "execution_count": 19,
   "metadata": {},
   "outputs": [
    {
     "name": "stdout",
     "output_type": "stream",
     "text": [
      "Using custom NLTK data directory: /secure/shared_data/nltk_data\n",
      "NLTK Data Paths: ['/secure/shared_data/nltk_data', '/home/yl3427/nltk_data', '/home/yl3427/miniconda3/envs/umls_env_py310/nltk_data', '/home/yl3427/miniconda3/envs/umls_env_py310/share/nltk_data', '/home/yl3427/miniconda3/envs/umls_env_py310/lib/nltk_data', '/usr/share/nltk_data', '/usr/local/share/nltk_data', '/usr/lib/nltk_data', '/usr/local/lib/nltk_data']\n"
     ]
    }
   ],
   "source": [
    "def setup_nltk(custom_data_dir=None):\n",
    "    \"\"\"Setup NLTK with optional custom data directory\"\"\"\n",
    "    if custom_data_dir:\n",
    "        # Clean up existing paths to avoid duplicates\n",
    "        if custom_data_dir in nltk.data.path:\n",
    "            nltk.data.path.remove(custom_data_dir)\n",
    "        \n",
    "        try:\n",
    "            # Test if directory is writable\n",
    "            os.makedirs(custom_data_dir, exist_ok=True)\n",
    "            test_file = os.path.join(custom_data_dir, 'test.txt')\n",
    "            with open(test_file, 'w') as f:\n",
    "                f.write('test')\n",
    "            os.remove(test_file)\n",
    "            \n",
    "            # Add custom path to NLTK data path (only once)\n",
    "            nltk.data.path.insert(0, custom_data_dir)\n",
    "            print(f\"Using custom NLTK data directory: {custom_data_dir}\")\n",
    "        except (PermissionError, OSError) as e:\n",
    "            print(f\"Warning: Cannot write to {custom_data_dir}: {str(e)}\")\n",
    "            print(\"Falling back to default locations\")\n",
    "            custom_data_dir = None\n",
    "    \n",
    "    # Show NLTK data paths (unique paths only)\n",
    "    unique_paths = list(dict.fromkeys(nltk.data.path))\n",
    "    print(\"NLTK Data Paths:\", unique_paths)\n",
    "    \n",
    "    # Required packages with their subdirectories\n",
    "    \n",
    "    packages = {\n",
    "        'tokenizers': ['punkt'],\n",
    "        'taggers': ['averaged_perceptron_tagger', 'averaged_perceptron_tagger_eng'],  # Added eng version\n",
    "        'corpora': ['wordnet', 'omw-1.4']\n",
    "    }\n",
    "    \n",
    "    for subdir, pkgs in packages.items():\n",
    "        for pkg in pkgs:\n",
    "            try:\n",
    "                nltk.data.find(f'{subdir}/{pkg}')\n",
    "            except LookupError:\n",
    "                nltk.download(pkg, download_dir=custom_data_dir, quiet=True)\n",
    "\n",
    "custom_nltk_path = \"/secure/shared_data/nltk_data\"\n",
    "setup_nltk(custom_nltk_path)"
   ]
  },
  {
   "cell_type": "code",
   "execution_count": 22,
   "metadata": {},
   "outputs": [
    {
     "name": "stdout",
     "output_type": "stream",
     "text": [
      "Original text: Pt presents with elevated BP and complaining of chest pains. Previous hx of HTN.\n",
      "Lemmatized text: patient present with elevate blood pressure and complain of chest pain . previous history of hypertension .\n"
     ]
    }
   ],
   "source": [
    "class ClinicalLemmatizer:\n",
    "    def __init__(self):\n",
    "        self.lemmatizer = WordNetLemmatizer()\n",
    "        # Common clinical abbreviations dictionary (you can expand this)\n",
    "        self.clinical_abbrev = {\n",
    "            'pt': 'patient',\n",
    "            'dx': 'diagnosis',\n",
    "            'tx': 'treatment',\n",
    "            'hx': 'history',\n",
    "            'temp': 'temperature',\n",
    "            'hr': 'heart rate',\n",
    "            'bp': 'blood pressure',\n",
    "            'htn': 'hypertension',\n",
    "            # Add more abbreviations as needed\n",
    "        }\n",
    "\n",
    "    def get_wordnet_pos(self, word):\n",
    "        \"\"\"Map POS tag to WordNet POS tag\"\"\"\n",
    "        tag = nltk.pos_tag([word])[0][1][0].upper()\n",
    "        tag_dict = {\n",
    "            \"J\": wordnet.ADJ,\n",
    "            \"N\": wordnet.NOUN,\n",
    "            \"V\": wordnet.VERB,\n",
    "            \"R\": wordnet.ADV\n",
    "        }\n",
    "        return tag_dict.get(tag, wordnet.NOUN)\n",
    "\n",
    "    def lemmatize_text(self, text):\n",
    "        # Convert to lowercase\n",
    "        text = text.lower()\n",
    "        \n",
    "        # Tokenize\n",
    "        words = word_tokenize(text)\n",
    "        \n",
    "        # Process each word\n",
    "        lemmatized_words = []\n",
    "        for word in words:\n",
    "            # Check if it's an abbreviation\n",
    "            if word in self.clinical_abbrev:\n",
    "                lemmatized_words.append(self.clinical_abbrev[word])\n",
    "            else:\n",
    "                # Lemmatize based on POS\n",
    "                pos = self.get_wordnet_pos(word)\n",
    "                lemmatized_word = self.lemmatizer.lemmatize(word, pos)\n",
    "                lemmatized_words.append(lemmatized_word)\n",
    "        \n",
    "        return ' '.join(lemmatized_words)\n",
    "\n",
    "# Example usage\n",
    "if __name__ == \"__main__\":\n",
    "    clinical_lemmatizer = ClinicalLemmatizer()\n",
    "    \n",
    "    # Example text\n",
    "    sample_text = \"Pt presents with elevated BP and complaining of chest pains. Previous hx of HTN.\"\n",
    "    \n",
    "    lemmatized_text = clinical_lemmatizer.lemmatize_text(sample_text)\n",
    "    print(\"Original text:\", sample_text)\n",
    "    print(\"Lemmatized text:\", lemmatized_text)\n"
   ]
  },
  {
   "cell_type": "code",
   "execution_count": 24,
   "metadata": {},
   "outputs": [
    {
     "data": {
      "text/plain": [
       "'nstemi ; newly worsen mr ; hypotension : acutely hypotensive , concern be for ischemia/infarct versus oversedation ; respiratory distress : repeat cxr show stable ll opacity . also chf ; rp bleed'"
      ]
     },
     "execution_count": 24,
     "metadata": {},
     "output_type": "execute_result"
    }
   ],
   "source": [
    "raw_text = \"\"\"NSTEMI; Newly worsened MR; Hypotension: acutely hypotensive, concern was for ischemia/infarct\n",
    "   versus oversedation; Respiratory distress: repeat CXR showed stable LL opacity. Also CHF; RP bleed\"\"\"\n",
    "clinical_lemmatizer.lemmatize_text(raw_text)"
   ]
  },
  {
   "cell_type": "code",
   "execution_count": null,
   "metadata": {},
   "outputs": [],
   "source": []
  },
  {
   "cell_type": "code",
   "execution_count": null,
   "metadata": {},
   "outputs": [],
   "source": []
  },
  {
   "cell_type": "code",
   "execution_count": null,
   "metadata": {},
   "outputs": [],
   "source": []
  },
  {
   "cell_type": "code",
   "execution_count": null,
   "metadata": {},
   "outputs": [],
   "source": []
  },
  {
   "cell_type": "code",
   "execution_count": null,
   "metadata": {},
   "outputs": [],
   "source": []
  }
 ],
 "metadata": {
  "kernelspec": {
   "display_name": "umls_env_py310",
   "language": "python",
   "name": "python3"
  },
  "language_info": {
   "codemirror_mode": {
    "name": "ipython",
    "version": 3
   },
   "file_extension": ".py",
   "mimetype": "text/x-python",
   "name": "python",
   "nbconvert_exporter": "python",
   "pygments_lexer": "ipython3",
   "version": "3.10.13"
  }
 },
 "nbformat": 4,
 "nbformat_minor": 2
}
