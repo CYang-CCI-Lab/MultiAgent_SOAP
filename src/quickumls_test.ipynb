{
 "cells": [
  {
   "cell_type": "code",
   "execution_count": 1,
   "metadata": {},
   "outputs": [],
   "source": [
    "from quickumls import QuickUMLS"
   ]
  },
  {
   "cell_type": "code",
   "execution_count": null,
   "metadata": {},
   "outputs": [],
   "source": [
    "# !python -m quickumls.install /secure/shared_data/UMLS/Destination/2024AA/META /home/yl3427/cylab/QuickUMLS"
   ]
  },
  {
   "cell_type": "code",
   "execution_count": 39,
   "metadata": {},
   "outputs": [],
   "source": [
    "# matcher = QuickUMLS(quickumls_fp, overlapping_criteria, threshold,\n",
    "#                     similarity_name, window, accepted_semtypes)\n",
    "matcher = QuickUMLS('/home/yl3427/cylab/QuickUMLS', accepted_semtypes=['T033', 'T184', 'T034', 'T046',\n",
    "                                                                       'T047', 'T048', 'T049', 'T190', 'T191',\n",
    "                                                                       'T037'])"
   ]
  },
  {
   "cell_type": "code",
   "execution_count": 40,
   "metadata": {},
   "outputs": [],
   "source": [
    "text = \"\"\"67 y/o M CAD s/[**Initials (NamePattern4) **] [**Last Name (NamePattern4) **] [**Last Name (Prefixes) **] stent [**2169-11-15**] with recent cecum polypectomy\n",
    "   who presents with bright red blood per rectum and hypotension following\n",
    "   prep.\n",
    "   .\"\"\""
   ]
  },
  {
   "cell_type": "code",
   "execution_count": 41,
   "metadata": {},
   "outputs": [
    {
     "name": "stdout",
     "output_type": "stream",
     "text": [
      "[{'start': 180, 'end': 207, 'ngram': 'bright red blood per rectum', 'term': 'bright red blood per rectum', 'cui': 'C0018932', 'similarity': 1.0, 'semtypes': {'T047'}, 'preferred': 1}]\n",
      "[{'start': 212, 'end': 223, 'ngram': 'hypotension', 'term': 'hypotension', 'cui': 'C0020649', 'similarity': 1.0, 'semtypes': {'T033'}, 'preferred': 0}]\n",
      "[{'start': 166, 'end': 174, 'ngram': 'presents', 'term': 'present', 'cui': 'C0150312', 'similarity': 0.8333333333333334, 'semtypes': {'T033'}, 'preferred': 1}]\n"
     ]
    }
   ],
   "source": [
    "results = matcher.match(text, best_match=True)\n",
    "type(results)\n",
    "for result in results:\n",
    "    print(result)"
   ]
  },
  {
   "cell_type": "code",
   "execution_count": 13,
   "metadata": {},
   "outputs": [
    {
     "data": {
      "text/plain": [
       "[[{'start': 156,\n",
       "   'end': 165,\n",
       "   'ngram': 'urosepsis',\n",
       "   'term': 'urosepsis',\n",
       "   'cui': 'C0149801',\n",
       "   'similarity': 1.0,\n",
       "   'semtypes': {'T047'},\n",
       "   'preferred': 1}],\n",
       " [{'start': 120,\n",
       "   'end': 128,\n",
       "   'ngram': 'disorder',\n",
       "   'term': 'disorder',\n",
       "   'cui': 'C0012634',\n",
       "   'similarity': 1.0,\n",
       "   'semtypes': {'T047'},\n",
       "   'preferred': 1}],\n",
       " [{'start': 44,\n",
       "   'end': 50,\n",
       "   'ngram': 'asthma',\n",
       "   'term': 'asthma',\n",
       "   'cui': 'C0004096',\n",
       "   'similarity': 1.0,\n",
       "   'semtypes': {'T047'},\n",
       "   'preferred': 0}],\n",
       " [{'start': 215,\n",
       "   'end': 235,\n",
       "   'ngram': 'respiratory distress',\n",
       "   'term': 'Respiratory distress syn',\n",
       "   'cui': 'C0035220',\n",
       "   'similarity': 0.7727272727272727,\n",
       "   'semtypes': {'T047'},\n",
       "   'preferred': 1}],\n",
       " [{'start': 52,\n",
       "   'end': 78,\n",
       "   'ngram': 'obstructive sleep\\n   apnea',\n",
       "   'term': 'obstructive sleep apnea',\n",
       "   'cui': 'C0520679',\n",
       "   'similarity': 0.7307692307692307,\n",
       "   'semtypes': {'T047'},\n",
       "   'preferred': 0}]]"
      ]
     },
     "execution_count": 13,
     "metadata": {},
     "output_type": "execute_result"
    }
   ],
   "source": [
    "matcher.match(text, best_match=False, ignore_syntax=True)"
   ]
  }
 ],
 "metadata": {
  "kernelspec": {
   "display_name": "umls_env_py310",
   "language": "python",
   "name": "python3"
  },
  "language_info": {
   "codemirror_mode": {
    "name": "ipython",
    "version": 3
   },
   "file_extension": ".py",
   "mimetype": "text/x-python",
   "name": "python",
   "nbconvert_exporter": "python",
   "pygments_lexer": "ipython3",
   "version": "3.10.15"
  }
 },
 "nbformat": 4,
 "nbformat_minor": 2
}
