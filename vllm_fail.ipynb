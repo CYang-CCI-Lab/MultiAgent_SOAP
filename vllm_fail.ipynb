{
 "cells": [
  {
   "cell_type": "markdown",
   "id": "842b371e",
   "metadata": {},
   "source": [
    "from vLLM website\n",
    "```bash\n",
    "vllm serve meta-llama/Llama-3.1-8B-Instruct \\\n",
    "    --enable-auto-tool-choice \\\n",
    "    --tool-call-parser llama3_json \\\n",
    "    --chat-template examples/tool_chat_template_llama3.1_json.jinja\n",
    "```"
   ]
  },
  {
   "cell_type": "markdown",
   "id": "f913d657",
   "metadata": {},
   "source": [
    "CUDA_VISIBLE_DEVICES=\"2,3,4,5\" vllm serve meta-llama/Llama-3.3-70B-Instruct --download-dir $MODEL_PATH --tensor-parallel-size 4 --max-model-len 32768 --enable-auto-tool-choice --tool-call-parser llama3_json --chat-template /tool_chat_template_llama3.2_json.jinja"
   ]
  },
  {
   "cell_type": "markdown",
   "id": "a493e312",
   "metadata": {},
   "source": [
    "```bash\n",
    "CUDA_VISIBLE_DEVICES=\"2,3,4,5\" python -m vllm.entrypoints.openai.api_server \\\n",
    "--model meta-llama/Llama-3.3-70B-Instruct \\\n",
    "--download-dir $MODEL_PATH \\\n",
    "--tensor-parallel-size 4 \\\n",
    "--max-model-len 32768 \\\n",
    "--enable-auto-tool-choice \\\n",
    "--tool-call-parser llama3_json \\\n",
    "--chat-template /home/yl3427/tool_chat_template_llama3.3_json.jinja\n",
    "```"
   ]
  },
  {
   "cell_type": "markdown",
   "id": "7c98a80c",
   "metadata": {},
   "source": [
    "Known issues:\n",
    "\n",
    "Parallel tool calls are not supported.\n",
    "\n",
    "The model can generate parameters with a wrong format, such as generating an array serialized as string instead of an array.\n",
    "\n",
    "The tool_chat_template_llama3_json.jinja file contains the “official” Llama chat template, but tweaked so that it works better with vLLM.\n",
    "\n",
    "Recommended flags: --tool-call-parser llama3_json --chat-template examples/tool_chat_template_llama3_json.jinja"
   ]
  },
  {
   "cell_type": "code",
   "execution_count": 15,
   "id": "31df6983",
   "metadata": {},
   "outputs": [
    {
     "data": {
      "text/plain": [
       "Index(['File ID', 'Assessment', 'Summary', 'Subjective', 'Objective',\n",
       "       'cleaned_expanded_Summary', 'terms', 'combined_summary', 'pred_sepsis',\n",
       "       'reasoning_sepsis'],\n",
       "      dtype='object')"
      ]
     },
     "execution_count": 15,
     "metadata": {},
     "output_type": "execute_result"
    }
   ],
   "source": [
    "df.columns"
   ]
  },
  {
   "cell_type": "code",
   "execution_count": 5,
   "id": "031f85fa",
   "metadata": {},
   "outputs": [
    {
     "name": "stdout",
     "output_type": "stream",
     "text": [
      "148906.txt 18\n",
      "Index([155], dtype='int64')\n",
      "100746.txt 102\n",
      "Index([239], dtype='int64')\n",
      "127339.txt 142\n",
      "Index([279], dtype='int64')\n",
      "150956.txt 172\n",
      "Index([309], dtype='int64')\n",
      "156778.txt 176\n",
      "Index([313], dtype='int64')\n",
      "175627.txt 197\n",
      "Index([334], dtype='int64')\n"
     ]
    }
   ],
   "source": [
    "import pandas as pd\n",
    "df = pd.read_csv('/home/yl3427/cylab/SOAP_MA/MA_results/diag_0302_from90th_resumed.csv')\n",
    "orig_df = pd.read_csv('/home/yl3427/cylab/SOAP_MA/MA_results/diag_0302.csv')\n",
    "for idx, row in df.iterrows():\n",
    "    if pd.isna(row['pred_sepsis']):\n",
    "        # print(idx)\n",
    "        print(row[\"File ID\"], idx)\n",
    "        print(orig_df.index[orig_df['File ID'] == row[\"File ID\"]])\n",
    "    "
   ]
  },
  {
   "cell_type": "code",
   "execution_count": null,
   "id": "c4fc5ae8",
   "metadata": {},
   "outputs": [
    {
     "name": "stdout",
     "output_type": "stream",
     "text": [
      "Function called: get_weather\n",
      "Arguments: {\"location\": \"San Francisco, CA\", \"unit\": \"fahrenheit\"}\n",
      "Result: Getting the weather for San Francisco, CA in fahrenheit...\n"
     ]
    }
   ],
   "source": [
    "from openai import OpenAI\n",
    "import json\n",
    "\n",
    "client = OpenAI(base_url=\"http://localhost:8000/v1\", api_key=\"dummy\")\n",
    "\n",
    "def get_weather(location: str, unit: str):\n",
    "    return f\"Getting the weather for {location} in {unit}...\"\n",
    "tool_functions = {\"get_weather\": get_weather}\n",
    "\n",
    "tools = [{\n",
    "    \"type\": \"function\",\n",
    "    \"function\": {\n",
    "        \"name\": \"get_weather\",\n",
    "        \"description\": \"Get the current weather in a given location\",\n",
    "        \"parameters\": {\n",
    "            \"type\": \"object\",\n",
    "            \"properties\": {\n",
    "                \"location\": {\"type\": \"string\", \"description\": \"City and state, e.g., 'San Francisco, CA'\"},\n",
    "                \"unit\": {\"type\": \"string\", \"enum\": [\"celsius\", \"fahrenheit\"]}\n",
    "            },\n",
    "            \"required\": [\"location\", \"unit\"]\n",
    "        }\n",
    "    }\n",
    "}]\n",
    "\n",
    "response = client.chat.completions.create(\n",
    "    model=client.models.list().data[0].id,\n",
    "    messages=[{\"role\": \"user\", \"content\": \"What's the weather like in San Francisco?\"}],\n",
    "    tools=tools,\n",
    "    tool_choice=\"auto\"\n",
    ")\n",
    "\n",
    "tool_call = response.choices[0].message.tool_calls[0].function\n",
    "print(f\"Function called: {tool_call.name}\")\n",
    "print(f\"Arguments: {tool_call.arguments}\")\n",
    "print(f\"Result: {get_weather(**json.loads(tool_call.arguments))}\")"
   ]
  },
  {
   "cell_type": "code",
   "execution_count": 17,
   "id": "219fcc2a",
   "metadata": {},
   "outputs": [
    {
     "data": {
      "text/plain": [
       "ChatCompletionMessage(content=None, refusal=None, role='assistant', audio=None, function_call=None, tool_calls=[ChatCompletionMessageToolCall(id='chatcmpl-tool-ba413aedf8114f3ab990ed0d00fd2387', function=Function(arguments='{\"location\": \"San Francisco, CA\", \"unit\": \"fahrenheit\"}', name='get_weather'), type='function')], reasoning_content=None)"
      ]
     },
     "execution_count": 17,
     "metadata": {},
     "output_type": "execute_result"
    }
   ],
   "source": [
    "response.choices[0].message"
   ]
  },
  {
   "cell_type": "code",
   "execution_count": null,
   "id": "5839f81b",
   "metadata": {},
   "outputs": [],
   "source": [
    "from langchain_core.messages import HumanMessage, SystemMessage\n",
    "from langchain_core.prompts.chat import (\n",
    "    ChatPromptTemplate,\n",
    "    HumanMessagePromptTemplate,\n",
    "    SystemMessagePromptTemplate,\n",
    ")\n",
    "from langchain_openai import ChatOpenAI\n",
    "\n",
    "local_api_url = \"http://localhost:8000/v1\"\n",
    "model=\"meta-llama/Llama-3.3-70B-Instruct\"\n",
    "llm = ChatOpenAI(\n",
    "    model=model,\n",
    "    openai_api_base=local_api_url,   \n",
    "    temperature=0.7,\n",
    "    openai_api_key=\"dummy_key\",                     \n",
    ")"
   ]
  },
  {
   "cell_type": "code",
   "execution_count": null,
   "id": "c9e5d00d",
   "metadata": {},
   "outputs": [],
   "source": []
  },
  {
   "cell_type": "markdown",
   "id": "88618bfb-d4a1-4f8b-af19-1bed4ce05729",
   "metadata": {},
   "source": [
    "#### **API 키 설정**"
   ]
  },
  {
   "cell_type": "code",
   "execution_count": null,
   "id": "e9d554dc",
   "metadata": {},
   "outputs": [],
   "source": []
  },
  {
   "cell_type": "code",
   "execution_count": 4,
   "id": "5800a78a-cce0-4db9-a7e4-d38a662b7e9f",
   "metadata": {},
   "outputs": [
    {
     "data": {
      "text/plain": [
       "'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'"
      ]
     },
     "execution_count": 4,
     "metadata": {},
     "output_type": "execute_result"
    }
   ],
   "source": [
    "import os\n",
    "from dotenv import load_dotenv\n",
    "load_dotenv('/home/yl3427/.env')\n",
    "# os.environ['TAVILY_API_KEY']\n",
    "os.getenv('TAVILY_API_KEY')\n",
    "os.environ['TAVILY_API_KEY']"
   ]
  },
  {
   "cell_type": "markdown",
   "id": "17adde40-29a1-4668-8837-de37e3cb3a23",
   "metadata": {},
   "source": [
    "#### **웹 검색과 코드 실행 도구 정의**"
   ]
  },
  {
   "cell_type": "code",
   "execution_count": null,
   "id": "f1ef79f2",
   "metadata": {},
   "outputs": [],
   "source": []
  },
  {
   "cell_type": "code",
   "execution_count": 5,
   "id": "657f0b4d-bda1-435e-a81c-32e265252679",
   "metadata": {},
   "outputs": [],
   "source": [
    "from typing import Annotated\n",
    "from langchain_community.tools.tavily_search import TavilySearchResults\n",
    "from langchain_experimental.tools import PythonREPLTool\n",
    "\n",
    "tavily_tool = TavilySearchResults(max_results=5)\n",
    "python_repl_tool = PythonREPLTool()"
   ]
  },
  {
   "cell_type": "markdown",
   "id": "68d1a07b-3526-4f19-9ff2-700710f1a1be",
   "metadata": {},
   "source": [
    "#### **yfinance로 주어진 주식 종목에 대한 최근 주가 및 재무 분석 도구 정의**"
   ]
  },
  {
   "cell_type": "code",
   "execution_count": 6,
   "id": "b08aef27-c931-468e-a158-92bfd322b452",
   "metadata": {},
   "outputs": [
    {
     "data": {
      "text/plain": [
       "{'2025-02-20': 140.11000061035156,\n",
       " '2025-02-21': 134.42999267578125,\n",
       " '2025-02-24': 130.27999877929688,\n",
       " '2025-02-25': 126.62999725341797,\n",
       " '2025-02-26': 131.27999877929688}"
      ]
     },
     "execution_count": 6,
     "metadata": {},
     "output_type": "execute_result"
    }
   ],
   "source": [
    "import yfinance as yf\n",
    "from datetime import datetime, timedelta\n",
    "import pandas as pd\n",
    "\n",
    "ticker = yf.Ticker(\"NVDA\")\n",
    "historical_prices = ticker.history(period='5d', interval='1d')\n",
    "\n",
    "last_5_days_close = historical_prices['Close'].tail(5)\n",
    "last_5_days_close_dict = {date.strftime('%Y-%m-%d'): price for date, price in last_5_days_close.items()}\n",
    "# 연간 및 분기별 재무제표 데이터 가져오기\n",
    "last_5_days_close_dict"
   ]
  },
  {
   "cell_type": "code",
   "execution_count": 7,
   "id": "97168a50-003d-45cb-9e0d-d835ff0c7b4f",
   "metadata": {},
   "outputs": [],
   "source": [
    "from langchain.tools import BaseTool, StructuredTool, tool\n",
    "import yfinance as yf\n",
    "from datetime import datetime, timedelta\n",
    "import pandas as pd\n",
    "\n",
    "#재무 분석 툴 설정\n",
    "@tool\n",
    "def stock_analysis(ticker: str) -> str:\n",
    "    \"\"\"\n",
    "    주어진 주식 티커에 대한 업데이트된 종합적인 재무 분석을 수행합니다.\n",
    "    최신 주가 정보, 재무 지표, 성장률, 밸류에이션 및 주요 비율을 제공합니다.\n",
    "    가장 최근 영업일 기준의 데이터를 사용합니다.\n",
    "    \n",
    "    :param ticker: 분석할 주식의 티커 심볼\n",
    "    :return: 재무 분석 결과를 포함한 문자열\n",
    "    \"\"\"\n",
    "    def format_number(number):\n",
    "        if number is None or pd.isna(number):\n",
    "            return \"N/A\"\n",
    "        return f\"{number:,.0f}\"\n",
    "\n",
    "    def format_financial_summary(financials):\n",
    "        summary = {}\n",
    "        for date, data in financials.items():\n",
    "            date_str = date.strftime('%Y-%m-%d')\n",
    "            summary[date_str] = {\n",
    "                \"총수익\": format_number(data.get('TotalRevenue')),\n",
    "                \"영업이익\": format_number(data.get('OperatingIncome')),\n",
    "                \"순이익\": format_number(data.get('NetIncome')),\n",
    "                \"EBITDA\": format_number(data.get('EBITDA')),\n",
    "                \"EPS(희석)\": f\"${data.get('DilutedEPS'):.2f}\" if pd.notna(data.get('DilutedEPS')) else \"N/A\"\n",
    "            }\n",
    "        return summary\n",
    "\n",
    "    ticker = yf.Ticker(ticker)\n",
    "    historical_prices = ticker.history(period='5d', interval='1d')\n",
    "\n",
    "    last_5_days_close = historical_prices['Close'].tail(5)\n",
    "    last_5_days_close_dict = {date.strftime('%Y-%m-%d'): price for date, price in last_5_days_close.items()}\n",
    "    # 연간 및 분기별 재무제표 데이터 가져오기\n",
    "    annual_financials = ticker.get_financials()\n",
    "    quarterly_financials = ticker.get_financials(freq=\"quarterly\")\n",
    "\n",
    "    return str({\n",
    "        \"최근 5일간 종가\": last_5_days_close_dict,\n",
    "        \"연간 재무제표 요약\": format_financial_summary(annual_financials),\n",
    "        \"분기별 재무제표 요약\": format_financial_summary(quarterly_financials),\n",
    "    })"
   ]
  },
  {
   "cell_type": "markdown",
   "id": "43249613-aebe-42c7-8a96-08e293f1dff0",
   "metadata": {},
   "source": [
    "#### **Supervisor 에이전트 정의**"
   ]
  },
  {
   "cell_type": "code",
   "execution_count": 8,
   "id": "f5f02c7d-e6f3-4474-a171-2c743dc98bac",
   "metadata": {},
   "outputs": [],
   "source": [
    "from langchain_core.prompts import ChatPromptTemplate, MessagesPlaceholder\n",
    "# from langchain_openai import ChatOpenAI\n",
    "from pydantic import BaseModel\n",
    "from typing import Literal\n",
    "\n",
    "members = [\"Researcher\", \"Stock_Analyzer\", \"Chart_Generator\"]\n",
    "system_prompt = (\n",
    "    \"You are a supervisor tasked with managing a conversation between the\"\n",
    "    \" following workers:  {members}. Given the following user request,\"\n",
    "    \" respond with the worker to act next. Each worker will perform a\"\n",
    "    \" task and respond with their results and status. When finished,\"\n",
    "    \" respond with FINISH.\"\n",
    ")\n",
    "# Our team supervisor is an LLM node. It just picks the next agent to process\n",
    "# and decides when the work is completed\n",
    "options = [\"FINISH\"] + members\n",
    "\n",
    "class routeResponse(BaseModel):\n",
    "    next: Literal[\"Researcher\", \"Stock_Analyzer\", \"Chart_Generator\", \"FINISH\"]\n",
    "\n",
    "prompt = ChatPromptTemplate.from_messages(\n",
    "    [\n",
    "        (\"system\", system_prompt),\n",
    "        MessagesPlaceholder(variable_name=\"messages\"),\n",
    "        (\n",
    "            \"system\",\n",
    "            \"Given the conversation above, who should act next?\"\n",
    "            \" Or should we FINISH? Select one of: {options}\",\n",
    "        ),\n",
    "    ]\n",
    ").partial(options=str(options), members=\", \".join(members))\n",
    "\n",
    "\n",
    "# llm = ChatOpenAI(model=\"gpt-4o-mini\")\n",
    "\n",
    "def supervisor_agent(state):\n",
    "    supervisor_chain = (\n",
    "        prompt\n",
    "        | llm.with_structured_output(routeResponse)\n",
    "    )\n",
    "    return supervisor_chain.invoke(state)"
   ]
  },
  {
   "cell_type": "markdown",
   "id": "43bb058f-7edf-4c3e-8b71-1789b490591c",
   "metadata": {},
   "source": [
    "#### **하위 에이전트 정의 함수**"
   ]
  },
  {
   "cell_type": "code",
   "execution_count": 9,
   "id": "925e20e7-bce6-410b-81df-77aa77808353",
   "metadata": {},
   "outputs": [],
   "source": [
    "from langchain_core.messages import HumanMessage\n",
    "\n",
    "def agent_node(state, agent, name):\n",
    "    result = agent.invoke(state)\n",
    "    return {\"messages\": [HumanMessage(content=result[\"messages\"][-1].content, name=name)]}"
   ]
  },
  {
   "cell_type": "markdown",
   "id": "9d88b90d-7639-45cd-bd71-f138fa3f743e",
   "metadata": {},
   "source": [
    "#### **하위 에이전트 설정**"
   ]
  },
  {
   "cell_type": "code",
   "execution_count": 10,
   "id": "f6bfd52e-359d-43a3-8e59-534b49441c4f",
   "metadata": {},
   "outputs": [
    {
     "data": {
      "text/plain": [
       "<langgraph.graph.state.StateGraph at 0x7f813092cd30>"
      ]
     },
     "execution_count": 10,
     "metadata": {},
     "output_type": "execute_result"
    }
   ],
   "source": [
    "import functools\n",
    "import operator\n",
    "from typing import Sequence, TypedDict\n",
    "\n",
    "from langchain_core.messages import BaseMessage\n",
    "\n",
    "from langgraph.graph import END, StateGraph, START\n",
    "from langgraph.prebuilt import create_react_agent\n",
    "\n",
    "# The agent state is the input to each node in the graph\n",
    "class AgentState(TypedDict):\n",
    "    # The annotation tells the graph that new messages will always\n",
    "    # be added to the current states\n",
    "    messages: Annotated[Sequence[BaseMessage], operator.add]\n",
    "    # The 'next' field indicates where to route to next\n",
    "    next: str\n",
    "\n",
    "research_system_prompt = \"\"\"You are a helpful research analyst who is specialized in \n",
    "gathering valuable info for given stock.\"\"\"\n",
    "research_agent = create_react_agent(llm, tools = [tavily_tool], state_modifier=research_system_prompt)\n",
    "research_node = functools.partial(agent_node, agent=research_agent, name=\"Researcher\")\n",
    "\n",
    "# NOTE: THIS PERFORMS ARBITRARY CODE EXECUTION. PROCEED WITH CAUTION\n",
    "stock_system_prompt=\"\"\"You are a helpful Stock and financial analyst. Never hallucinate the given metrics.\"\"\"\n",
    "stock_agent = create_react_agent(llm, tools=[stock_analysis], state_modifier=stock_system_prompt)\n",
    "stock_node = functools.partial(agent_node, agent=stock_agent, name=\"Stock_Analyzer\")\n",
    "\n",
    "# NOTE: THIS PERFORMS ARBITRARY CODE EXECUTION. PROCEED WITH CAUTION\n",
    "chart_system_prompt=\"\"\"You are a helpful Stock Chart Generator. \n",
    "Only make accurate charts for given query. Chart design and accuracy should be state of the art.\n",
    "Never make any other mention.\"\"\"\n",
    "chart_agent = create_react_agent(llm, tools=[], state_modifier=chart_system_prompt)\n",
    "chart_node = functools.partial(agent_node, agent=chart_agent, name=\"Chart_Generator\")\n",
    "\n",
    "workflow = StateGraph(AgentState)\n",
    "workflow.add_node(\"Researcher\", research_node)\n",
    "workflow.add_node(\"Stock_Analyzer\", stock_node)\n",
    "workflow.add_node(\"Chart_Generator\", chart_node)\n",
    "workflow.add_node(\"supervisor\", supervisor_agent)"
   ]
  },
  {
   "cell_type": "code",
   "execution_count": 11,
   "id": "ed387f73-bd85-4e87-b41f-920387706027",
   "metadata": {},
   "outputs": [],
   "source": [
    "for member in members:\n",
    "    # We want our workers to ALWAYS \"report back\" to the supervisor when done\n",
    "    workflow.add_edge(member, \"supervisor\")\n",
    "# The supervisor populates the \"next\" field in the graph state\n",
    "# which routes to a node or finishes\n",
    "conditional_map = {k: k for k in members}\n",
    "conditional_map[\"FINISH\"] = END\n",
    "workflow.add_conditional_edges(\n",
    "    \"supervisor\", \n",
    "    lambda x: x[\"next\"], \n",
    "    conditional_map)\n",
    "# Finally, add entrypoint\n",
    "workflow.add_edge(START, \"supervisor\")\n",
    "\n",
    "graph = workflow.compile()"
   ]
  },
  {
   "cell_type": "code",
   "execution_count": 12,
   "id": "655cced3-0560-47a4-8f7b-ae34f2223f5f",
   "metadata": {},
   "outputs": [
    {
     "data": {
      "image/png": "[encoded data removed]",
      "text/plain": [
       "<IPython.core.display.Image object>"
      ]
     },
     "metadata": {},
     "output_type": "display_data"
    }
   ],
   "source": [
    "from IPython.display import Image, display\n",
    "\n",
    "try:\n",
    "    display(Image(graph.get_graph().draw_mermaid_png()))\n",
    "except Exception:\n",
    "    # This requires some extra dependencies and is optional\n",
    "    pass"
   ]
  },
  {
   "cell_type": "code",
   "execution_count": 13,
   "id": "0b0bc579-7f2c-4928-abf8-fcb85272c63a",
   "metadata": {},
   "outputs": [
    {
     "name": "stdout",
     "output_type": "stream",
     "text": [
      "{'supervisor': {'next': 'Researcher'}}\n",
      "----\n"
     ]
    },
    {
     "ename": "GraphRecursionError",
     "evalue": "Recursion limit of 25 reached without hitting a stop condition. You can increase the limit by setting the `recursion_limit` config key.\nFor troubleshooting, visit: https://python.langchain.com/docs/troubleshooting/errors/GRAPH_RECURSION_LIMIT",
     "output_type": "error",
     "traceback": [
      "\u001b[0;31m---------------------------------------------------------------------------\u001b[0m",
      "\u001b[0;31mGraphRecursionError\u001b[0m                       Traceback (most recent call last)",
      "Cell \u001b[0;32mIn[13], line 1\u001b[0m\n\u001b[0;32m----> 1\u001b[0m \u001b[38;5;28;01mfor\u001b[39;00m s \u001b[38;5;129;01min\u001b[39;00m graph\u001b[38;5;241m.\u001b[39mstream({\u001b[38;5;124m\"\u001b[39m\u001b[38;5;124mmessages\u001b[39m\u001b[38;5;124m\"\u001b[39m: [HumanMessage(content\u001b[38;5;241m=\u001b[39m\u001b[38;5;124m\"\u001b[39m\u001b[38;5;124m애플 주식 구매 의사 결정 도와줘\u001b[39m\u001b[38;5;124m\"\u001b[39m)]}):\n\u001b[1;32m      2\u001b[0m     \u001b[38;5;28;01mif\u001b[39;00m \u001b[38;5;124m\"\u001b[39m\u001b[38;5;124m__end__\u001b[39m\u001b[38;5;124m\"\u001b[39m \u001b[38;5;129;01mnot\u001b[39;00m \u001b[38;5;129;01min\u001b[39;00m s:\n\u001b[1;32m      3\u001b[0m         \u001b[38;5;28mprint\u001b[39m(s)\n",
      "File \u001b[0;32m~/miniconda3/envs/vllm_env/lib/python3.9/site-packages/langgraph/pregel/__init__.py:1779\u001b[0m, in \u001b[0;36mPregel.stream\u001b[0;34m(self, input, config, stream_mode, output_keys, interrupt_before, interrupt_after, debug, subgraphs)\u001b[0m\n\u001b[1;32m   1773\u001b[0m     \u001b[38;5;66;03m# Similarly to Bulk Synchronous Parallel / Pregel model\u001b[39;00m\n\u001b[1;32m   1774\u001b[0m     \u001b[38;5;66;03m# computation proceeds in steps, while there are channel updates.\u001b[39;00m\n\u001b[1;32m   1775\u001b[0m     \u001b[38;5;66;03m# Channel updates from step N are only visible in step N+1\u001b[39;00m\n\u001b[1;32m   1776\u001b[0m     \u001b[38;5;66;03m# channels are guaranteed to be immutable for the duration of the step,\u001b[39;00m\n\u001b[1;32m   1777\u001b[0m     \u001b[38;5;66;03m# with channel updates applied only at the transition between steps.\u001b[39;00m\n\u001b[1;32m   1778\u001b[0m     \u001b[38;5;28;01mwhile\u001b[39;00m loop\u001b[38;5;241m.\u001b[39mtick(input_keys\u001b[38;5;241m=\u001b[39m\u001b[38;5;28mself\u001b[39m\u001b[38;5;241m.\u001b[39minput_channels):\n\u001b[0;32m-> 1779\u001b[0m         \u001b[38;5;28;01mfor\u001b[39;00m _ \u001b[38;5;129;01min\u001b[39;00m runner\u001b[38;5;241m.\u001b[39mtick(\n\u001b[1;32m   1780\u001b[0m             loop\u001b[38;5;241m.\u001b[39mtasks\u001b[38;5;241m.\u001b[39mvalues(),\n\u001b[1;32m   1781\u001b[0m             timeout\u001b[38;5;241m=\u001b[39m\u001b[38;5;28mself\u001b[39m\u001b[38;5;241m.\u001b[39mstep_timeout,\n\u001b[1;32m   1782\u001b[0m             retry_policy\u001b[38;5;241m=\u001b[39m\u001b[38;5;28mself\u001b[39m\u001b[38;5;241m.\u001b[39mretry_policy,\n\u001b[1;32m   1783\u001b[0m             get_waiter\u001b[38;5;241m=\u001b[39mget_waiter,\n\u001b[1;32m   1784\u001b[0m         ):\n\u001b[1;32m   1785\u001b[0m             \u001b[38;5;66;03m# emit output\u001b[39;00m\n\u001b[1;32m   1786\u001b[0m             \u001b[38;5;28;01myield from\u001b[39;00m output()\n\u001b[1;32m   1787\u001b[0m \u001b[38;5;66;03m# emit output\u001b[39;00m\n",
      "File \u001b[0;32m~/miniconda3/envs/vllm_env/lib/python3.9/site-packages/langgraph/pregel/runner.py:230\u001b[0m, in \u001b[0;36mPregelRunner.tick\u001b[0;34m(self, tasks, reraise, timeout, retry_policy, get_waiter)\u001b[0m\n\u001b[1;32m    228\u001b[0m t \u001b[38;5;241m=\u001b[39m tasks[\u001b[38;5;241m0\u001b[39m]\n\u001b[1;32m    229\u001b[0m \u001b[38;5;28;01mtry\u001b[39;00m:\n\u001b[0;32m--> 230\u001b[0m     \u001b[43mrun_with_retry\u001b[49m\u001b[43m(\u001b[49m\n\u001b[1;32m    231\u001b[0m \u001b[43m        \u001b[49m\u001b[43mt\u001b[49m\u001b[43m,\u001b[49m\n\u001b[1;32m    232\u001b[0m \u001b[43m        \u001b[49m\u001b[43mretry_policy\u001b[49m\u001b[43m,\u001b[49m\n\u001b[1;32m    233\u001b[0m \u001b[43m        \u001b[49m\u001b[43mconfigurable\u001b[49m\u001b[38;5;241;43m=\u001b[39;49m\u001b[43m{\u001b[49m\n\u001b[1;32m    234\u001b[0m \u001b[43m            \u001b[49m\u001b[43mCONFIG_KEY_SEND\u001b[49m\u001b[43m:\u001b[49m\u001b[43m \u001b[49m\u001b[43mpartial\u001b[49m\u001b[43m(\u001b[49m\u001b[43mwriter\u001b[49m\u001b[43m,\u001b[49m\u001b[43m \u001b[49m\u001b[43mt\u001b[49m\u001b[43m)\u001b[49m\u001b[43m,\u001b[49m\n\u001b[1;32m    235\u001b[0m \u001b[43m            \u001b[49m\u001b[43mCONFIG_KEY_CALL\u001b[49m\u001b[43m:\u001b[49m\u001b[43m \u001b[49m\u001b[43mpartial\u001b[49m\u001b[43m(\u001b[49m\u001b[43mcall\u001b[49m\u001b[43m,\u001b[49m\u001b[43m \u001b[49m\u001b[43mt\u001b[49m\u001b[43m)\u001b[49m\u001b[43m,\u001b[49m\n\u001b[1;32m    236\u001b[0m \u001b[43m        \u001b[49m\u001b[43m}\u001b[49m\u001b[43m,\u001b[49m\n\u001b[1;32m    237\u001b[0m \u001b[43m    \u001b[49m\u001b[43m)\u001b[49m\n\u001b[1;32m    238\u001b[0m     \u001b[38;5;28mself\u001b[39m\u001b[38;5;241m.\u001b[39mcommit(t, \u001b[38;5;28;01mNone\u001b[39;00m)\n\u001b[1;32m    239\u001b[0m \u001b[38;5;28;01mexcept\u001b[39;00m \u001b[38;5;167;01mException\u001b[39;00m \u001b[38;5;28;01mas\u001b[39;00m exc:\n",
      "File \u001b[0;32m~/miniconda3/envs/vllm_env/lib/python3.9/site-packages/langgraph/pregel/retry.py:40\u001b[0m, in \u001b[0;36mrun_with_retry\u001b[0;34m(task, retry_policy, configurable)\u001b[0m\n\u001b[1;32m     38\u001b[0m     task\u001b[38;5;241m.\u001b[39mwrites\u001b[38;5;241m.\u001b[39mclear()\n\u001b[1;32m     39\u001b[0m     \u001b[38;5;66;03m# run the task\u001b[39;00m\n\u001b[0;32m---> 40\u001b[0m     \u001b[38;5;28;01mreturn\u001b[39;00m \u001b[43mtask\u001b[49m\u001b[38;5;241;43m.\u001b[39;49m\u001b[43mproc\u001b[49m\u001b[38;5;241;43m.\u001b[39;49m\u001b[43minvoke\u001b[49m\u001b[43m(\u001b[49m\u001b[43mtask\u001b[49m\u001b[38;5;241;43m.\u001b[39;49m\u001b[43minput\u001b[49m\u001b[43m,\u001b[49m\u001b[43m \u001b[49m\u001b[43mconfig\u001b[49m\u001b[43m)\u001b[49m\n\u001b[1;32m     41\u001b[0m \u001b[38;5;28;01mexcept\u001b[39;00m ParentCommand \u001b[38;5;28;01mas\u001b[39;00m exc:\n\u001b[1;32m     42\u001b[0m     ns: \u001b[38;5;28mstr\u001b[39m \u001b[38;5;241m=\u001b[39m config[CONF][CONFIG_KEY_CHECKPOINT_NS]\n",
      "File \u001b[0;32m~/miniconda3/envs/vllm_env/lib/python3.9/site-packages/langgraph/utils/runnable.py:546\u001b[0m, in \u001b[0;36mRunnableSeq.invoke\u001b[0;34m(self, input, config, **kwargs)\u001b[0m\n\u001b[1;32m    542\u001b[0m config \u001b[38;5;241m=\u001b[39m patch_config(\n\u001b[1;32m    543\u001b[0m     config, callbacks\u001b[38;5;241m=\u001b[39mrun_manager\u001b[38;5;241m.\u001b[39mget_child(\u001b[38;5;124mf\u001b[39m\u001b[38;5;124m\"\u001b[39m\u001b[38;5;124mseq:step:\u001b[39m\u001b[38;5;132;01m{\u001b[39;00mi\u001b[38;5;250m \u001b[39m\u001b[38;5;241m+\u001b[39m\u001b[38;5;250m \u001b[39m\u001b[38;5;241m1\u001b[39m\u001b[38;5;132;01m}\u001b[39;00m\u001b[38;5;124m\"\u001b[39m)\n\u001b[1;32m    544\u001b[0m )\n\u001b[1;32m    545\u001b[0m \u001b[38;5;28;01mif\u001b[39;00m i \u001b[38;5;241m==\u001b[39m \u001b[38;5;241m0\u001b[39m:\n\u001b[0;32m--> 546\u001b[0m     \u001b[38;5;28minput\u001b[39m \u001b[38;5;241m=\u001b[39m \u001b[43mstep\u001b[49m\u001b[38;5;241;43m.\u001b[39;49m\u001b[43minvoke\u001b[49m\u001b[43m(\u001b[49m\u001b[38;5;28;43minput\u001b[39;49m\u001b[43m,\u001b[49m\u001b[43m \u001b[49m\u001b[43mconfig\u001b[49m\u001b[43m,\u001b[49m\u001b[43m \u001b[49m\u001b[38;5;241;43m*\u001b[39;49m\u001b[38;5;241;43m*\u001b[39;49m\u001b[43mkwargs\u001b[49m\u001b[43m)\u001b[49m\n\u001b[1;32m    547\u001b[0m \u001b[38;5;28;01melse\u001b[39;00m:\n\u001b[1;32m    548\u001b[0m     \u001b[38;5;28minput\u001b[39m \u001b[38;5;241m=\u001b[39m step\u001b[38;5;241m.\u001b[39minvoke(\u001b[38;5;28minput\u001b[39m, config)\n",
      "File \u001b[0;32m~/miniconda3/envs/vllm_env/lib/python3.9/site-packages/langgraph/utils/runnable.py:310\u001b[0m, in \u001b[0;36mRunnableCallable.invoke\u001b[0;34m(self, input, config, **kwargs)\u001b[0m\n\u001b[1;32m    308\u001b[0m \u001b[38;5;28;01melse\u001b[39;00m:\n\u001b[1;32m    309\u001b[0m     context\u001b[38;5;241m.\u001b[39mrun(_set_config_context, config)\n\u001b[0;32m--> 310\u001b[0m     ret \u001b[38;5;241m=\u001b[39m \u001b[43mcontext\u001b[49m\u001b[38;5;241;43m.\u001b[39;49m\u001b[43mrun\u001b[49m\u001b[43m(\u001b[49m\u001b[38;5;28;43mself\u001b[39;49m\u001b[38;5;241;43m.\u001b[39;49m\u001b[43mfunc\u001b[49m\u001b[43m,\u001b[49m\u001b[43m \u001b[49m\u001b[38;5;241;43m*\u001b[39;49m\u001b[43margs\u001b[49m\u001b[43m,\u001b[49m\u001b[43m \u001b[49m\u001b[38;5;241;43m*\u001b[39;49m\u001b[38;5;241;43m*\u001b[39;49m\u001b[43mkwargs\u001b[49m\u001b[43m)\u001b[49m\n\u001b[1;32m    311\u001b[0m \u001b[38;5;28;01mif\u001b[39;00m \u001b[38;5;28misinstance\u001b[39m(ret, Runnable) \u001b[38;5;129;01mand\u001b[39;00m \u001b[38;5;28mself\u001b[39m\u001b[38;5;241m.\u001b[39mrecurse:\n\u001b[1;32m    312\u001b[0m     \u001b[38;5;28;01mreturn\u001b[39;00m ret\u001b[38;5;241m.\u001b[39minvoke(\u001b[38;5;28minput\u001b[39m, config)\n",
      "Cell \u001b[0;32mIn[9], line 4\u001b[0m, in \u001b[0;36magent_node\u001b[0;34m(state, agent, name)\u001b[0m\n\u001b[1;32m      3\u001b[0m \u001b[38;5;28;01mdef\u001b[39;00m \u001b[38;5;21magent_node\u001b[39m(state, agent, name):\n\u001b[0;32m----> 4\u001b[0m     result \u001b[38;5;241m=\u001b[39m \u001b[43magent\u001b[49m\u001b[38;5;241;43m.\u001b[39;49m\u001b[43minvoke\u001b[49m\u001b[43m(\u001b[49m\u001b[43mstate\u001b[49m\u001b[43m)\u001b[49m\n\u001b[1;32m      5\u001b[0m     \u001b[38;5;28;01mreturn\u001b[39;00m {\u001b[38;5;124m\"\u001b[39m\u001b[38;5;124mmessages\u001b[39m\u001b[38;5;124m\"\u001b[39m: [HumanMessage(content\u001b[38;5;241m=\u001b[39mresult[\u001b[38;5;124m\"\u001b[39m\u001b[38;5;124mmessages\u001b[39m\u001b[38;5;124m\"\u001b[39m][\u001b[38;5;241m-\u001b[39m\u001b[38;5;241m1\u001b[39m]\u001b[38;5;241m.\u001b[39mcontent, name\u001b[38;5;241m=\u001b[39mname)]}\n",
      "File \u001b[0;32m~/miniconda3/envs/vllm_env/lib/python3.9/site-packages/langgraph/pregel/__init__.py:2124\u001b[0m, in \u001b[0;36mPregel.invoke\u001b[0;34m(self, input, config, stream_mode, output_keys, interrupt_before, interrupt_after, debug, **kwargs)\u001b[0m\n\u001b[1;32m   2122\u001b[0m \u001b[38;5;28;01melse\u001b[39;00m:\n\u001b[1;32m   2123\u001b[0m     chunks \u001b[38;5;241m=\u001b[39m []\n\u001b[0;32m-> 2124\u001b[0m \u001b[38;5;28;01mfor\u001b[39;00m chunk \u001b[38;5;129;01min\u001b[39;00m \u001b[38;5;28mself\u001b[39m\u001b[38;5;241m.\u001b[39mstream(\n\u001b[1;32m   2125\u001b[0m     \u001b[38;5;28minput\u001b[39m,\n\u001b[1;32m   2126\u001b[0m     config,\n\u001b[1;32m   2127\u001b[0m     stream_mode\u001b[38;5;241m=\u001b[39mstream_mode,\n\u001b[1;32m   2128\u001b[0m     output_keys\u001b[38;5;241m=\u001b[39moutput_keys,\n\u001b[1;32m   2129\u001b[0m     interrupt_before\u001b[38;5;241m=\u001b[39minterrupt_before,\n\u001b[1;32m   2130\u001b[0m     interrupt_after\u001b[38;5;241m=\u001b[39minterrupt_after,\n\u001b[1;32m   2131\u001b[0m     debug\u001b[38;5;241m=\u001b[39mdebug,\n\u001b[1;32m   2132\u001b[0m     \u001b[38;5;241m*\u001b[39m\u001b[38;5;241m*\u001b[39mkwargs,\n\u001b[1;32m   2133\u001b[0m ):\n\u001b[1;32m   2134\u001b[0m     \u001b[38;5;28;01mif\u001b[39;00m stream_mode \u001b[38;5;241m==\u001b[39m \u001b[38;5;124m\"\u001b[39m\u001b[38;5;124mvalues\u001b[39m\u001b[38;5;124m\"\u001b[39m:\n\u001b[1;32m   2135\u001b[0m         latest \u001b[38;5;241m=\u001b[39m chunk\n",
      "File \u001b[0;32m~/miniconda3/envs/vllm_env/lib/python3.9/site-packages/langgraph/pregel/__init__.py:1799\u001b[0m, in \u001b[0;36mPregel.stream\u001b[0;34m(self, input, config, stream_mode, output_keys, interrupt_before, interrupt_after, debug, subgraphs)\u001b[0m\n\u001b[1;32m   1790\u001b[0m \u001b[38;5;28;01mif\u001b[39;00m loop\u001b[38;5;241m.\u001b[39mstatus \u001b[38;5;241m==\u001b[39m \u001b[38;5;124m\"\u001b[39m\u001b[38;5;124mout_of_steps\u001b[39m\u001b[38;5;124m\"\u001b[39m:\n\u001b[1;32m   1791\u001b[0m     msg \u001b[38;5;241m=\u001b[39m create_error_message(\n\u001b[1;32m   1792\u001b[0m         message\u001b[38;5;241m=\u001b[39m(\n\u001b[1;32m   1793\u001b[0m             \u001b[38;5;124mf\u001b[39m\u001b[38;5;124m\"\u001b[39m\u001b[38;5;124mRecursion limit of \u001b[39m\u001b[38;5;132;01m{\u001b[39;00mconfig[\u001b[38;5;124m'\u001b[39m\u001b[38;5;124mrecursion_limit\u001b[39m\u001b[38;5;124m'\u001b[39m]\u001b[38;5;132;01m}\u001b[39;00m\u001b[38;5;124m reached \u001b[39m\u001b[38;5;124m\"\u001b[39m\n\u001b[0;32m   (...)\u001b[0m\n\u001b[1;32m   1797\u001b[0m         error_code\u001b[38;5;241m=\u001b[39mErrorCode\u001b[38;5;241m.\u001b[39mGRAPH_RECURSION_LIMIT,\n\u001b[1;32m   1798\u001b[0m     )\n\u001b[0;32m-> 1799\u001b[0m     \u001b[38;5;28;01mraise\u001b[39;00m GraphRecursionError(msg)\n\u001b[1;32m   1800\u001b[0m \u001b[38;5;66;03m# set final channel values as run output\u001b[39;00m\n\u001b[1;32m   1801\u001b[0m run_manager\u001b[38;5;241m.\u001b[39mon_chain_end(loop\u001b[38;5;241m.\u001b[39moutput)\n",
      "\u001b[0;31mGraphRecursionError\u001b[0m: Recursion limit of 25 reached without hitting a stop condition. You can increase the limit by setting the `recursion_limit` config key.\nFor troubleshooting, visit: https://python.langchain.com/docs/troubleshooting/errors/GRAPH_RECURSION_LIMIT"
     ]
    }
   ],
   "source": [
    "for s in graph.stream({\"messages\": [HumanMessage(content=\"애플 주식 구매 의사 결정 도와줘\")]}):\n",
    "    if \"__end__\" not in s:\n",
    "        print(s)\n",
    "        print(\"----\")"
   ]
  },
  {
   "cell_type": "code",
   "execution_count": 18,
   "id": "2df50e3e-689f-4977-9952-27dc31404975",
   "metadata": {},
   "outputs": [],
   "source": [
    "llm_tools = llm.bind_tools([stock_analysis])"
   ]
  },
  {
   "cell_type": "code",
   "execution_count": 19,
   "id": "d9f4377e-dcb4-429b-afb4-9a3c0561ce1b",
   "metadata": {},
   "outputs": [],
   "source": [
    "res= llm_tools.invoke(\"what is the stock price of AAPL?\")"
   ]
  },
  {
   "cell_type": "code",
   "execution_count": 20,
   "id": "689b1e5b",
   "metadata": {},
   "outputs": [
    {
     "data": {
      "text/plain": [
       "AIMessage(content='', additional_kwargs={'tool_calls': [{'id': 'chatcmpl-tool-5540b7c8615440849fc1588490013ae6', 'function': {'arguments': '{\"ticker\": \"AAPL\"}', 'name': 'stock_analysis'}, 'type': 'function'}], 'refusal': None}, response_metadata={'token_usage': {'completion_tokens': 24, 'prompt_tokens': 267, 'total_tokens': 291, 'completion_tokens_details': None, 'prompt_tokens_details': None}, 'model_name': 'meta-llama/Llama-3.3-70B-Instruct', 'system_fingerprint': None, 'finish_reason': 'tool_calls', 'logprobs': None}, id='run-94f79aaf-41ad-42fe-b084-ac7a410fb34e-0', tool_calls=[{'name': 'stock_analysis', 'args': {'ticker': 'AAPL'}, 'id': 'chatcmpl-tool-5540b7c8615440849fc1588490013ae6', 'type': 'tool_call'}], usage_metadata={'input_tokens': 267, 'output_tokens': 24, 'total_tokens': 291, 'input_token_details': {}, 'output_token_details': {}})"
      ]
     },
     "execution_count": 20,
     "metadata": {},
     "output_type": "execute_result"
    }
   ],
   "source": [
    "res"
   ]
  },
  {
   "cell_type": "code",
   "execution_count": 17,
   "id": "f024e30c-c4b2-4b00-bef8-2339bd4bf128",
   "metadata": {},
   "outputs": [
    {
     "ename": "TypeError",
     "evalue": "'AIMessage' object is not subscriptable",
     "output_type": "error",
     "traceback": [
      "\u001b[0;31m---------------------------------------------------------------------------\u001b[0m",
      "\u001b[0;31mTypeError\u001b[0m                                 Traceback (most recent call last)",
      "Cell \u001b[0;32mIn[17], line 1\u001b[0m\n\u001b[0;32m----> 1\u001b[0m \u001b[43mres\u001b[49m\u001b[43m[\u001b[49m\u001b[38;5;241;43m0\u001b[39;49m\u001b[43m]\u001b[49m\u001b[38;5;241m.\u001b[39mcontent\n",
      "\u001b[0;31mTypeError\u001b[0m: 'AIMessage' object is not subscriptable"
     ]
    }
   ],
   "source": [
    "res[0].content"
   ]
  },
  {
   "cell_type": "code",
   "execution_count": 11,
   "id": "8c558c7e-a6aa-4a56-9425-75f4523a2a8a",
   "metadata": {},
   "outputs": [
    {
     "data": {
      "text/plain": [
       "AIMessage(content=\"Hello Yewon! Nice to meet you!\\n\\nTo find the next flight from Amsterdam to New York, I'd be happy to help you with that. However, I'm a large language model, I don't have have access to real-time flight information. But I can suggest a few options to help you find the next available flight:\\n\\n1. **Check with airlines**: You can visit the websites of airlines that operate flights from Amsterdam to New York, such as KLM, Delta, or American Airlines, to see their flight schedules and book a ticket.\\n2. **Use flight search engines**: Websites like Google Flights, Skyscanner, or Expedia can help you search for flights from Amsterdam to New York and provide you with a list of available flights, along with their departure and arrival times.\\n3. **Contact a travel agent**: If you prefer to book through a travel agent, they can help you find the next available flight and assist with the booking process.\\n\\nIf you'd like, I can help you with some general information about flights from Amsterdam to New York, such as the average flight duration, or provide you with some tips on how to find the best deals on flights.\\n\\nWhich option sounds most helpful to you, Yewon?\", additional_kwargs={'refusal': None}, response_metadata={'token_usage': {'completion_tokens': 254, 'prompt_tokens': 60, 'total_tokens': 314, 'completion_tokens_details': None, 'prompt_tokens_details': None}, 'model_name': 'meta-llama/Llama-3.3-70B-Instruct', 'system_fingerprint': None, 'finish_reason': 'stop', 'logprobs': None}, id='run-d305e3e3-fcb6-4f1a-91e8-efc11288d6fc-0', usage_metadata={'input_tokens': 60, 'output_tokens': 254, 'total_tokens': 314, 'input_token_details': {}, 'output_token_details': {}})"
      ]
     },
     "execution_count": 11,
     "metadata": {},
     "output_type": "execute_result"
    }
   ],
   "source": [
    "import json\n",
    "@tool\n",
    "def get_flight_info(loc_origin: str, loc_destination: str):\n",
    "    \"\"\"\n",
    "    Get flight information between two locations.\n",
    "    \"\"\"\n",
    "    flight_info = {\n",
    "    \"loc_origin\": loc_origin,\n",
    "    \"loc_destination\": loc_destination,\n",
    "    \"datetime\": str(datetime.now() + timedelta(hours=2)),\n",
    "    \"airline\": \"KLM\",\n",
    "    \"flight_number\": \"KL 123\",\n",
    "    }\n",
    "\n",
    "    return json.dumps(flight_info)\n",
    "\n",
    "@tool\n",
    "def greet_user(name: str) -> str:\n",
    "    \"\"\"\n",
    "    Greet the user with a personalized message.\n",
    "    \"\"\"\n",
    "    return f\"Hello, {name}! Sure, I can help you with that.\"\n",
    " \n",
    "prompt = ChatPromptTemplate(\n",
    "    [\n",
    "        (\n",
    "            \"system\",\n",
    "            \"You are a helpful assistant\",\n",
    "        ),\n",
    "        (\"user\", \"{input}\"),\n",
    "    ]\n",
    ")\n",
    "llm_with_tool = llm.bind_tools([get_flight_info])\n",
    "chain = prompt | llm\n",
    "chain.invoke(\"Hello, My name is Yewon. When's the next flight from Amsterdam to New York?\")"
   ]
  },
  {
   "cell_type": "code",
   "execution_count": null,
   "id": "3e6783c1-18c9-46da-9276-7df4c49aac6a",
   "metadata": {},
   "outputs": [],
   "source": [
    "from langchain_core.tools import tool\n",
    "\n",
    "\n",
    "\n",
    "llm_with_tool = llm.bind_tools([get_flight_info])\n",
    "resp = llm_with_tool.invoke(\"Hello, I'm Yewon. What is 'apple' in Korean?\")\n",
    "print(resp)"
   ]
  },
  {
   "cell_type": "code",
   "execution_count": null,
   "id": "b3dbc639-e620-4afa-be44-72958726272c",
   "metadata": {},
   "outputs": [
    {
     "name": "stdout",
     "output_type": "stream",
     "text": [
      "content='' additional_kwargs={'tool_calls': [{'id': 'chatcmpl-tool-3193df7609014e46be0ab78417bbee0d', 'function': {'arguments': '{\"name\": \"Jean\"}', 'name': 'greeting'}, 'type': 'function'}], 'refusal': None} response_metadata={'token_usage': {'completion_tokens': 23, 'prompt_tokens': 183, 'total_tokens': 206, 'completion_tokens_details': None, 'prompt_tokens_details': None}, 'model_name': 'meta-llama/Llama-3.3-70B-Instruct', 'system_fingerprint': None, 'finish_reason': 'tool_calls', 'logprobs': None} id='run-db9a2b19-0671-44d9-82ae-b48baef4fd72-0' tool_calls=[{'name': 'greeting', 'args': {'name': 'Jean'}, 'id': 'chatcmpl-tool-3193df7609014e46be0ab78417bbee0d', 'type': 'tool_call'}] usage_metadata={'input_tokens': 183, 'output_tokens': 23, 'total_tokens': 206, 'input_token_details': {}, 'output_token_details': {}}\n"
     ]
    }
   ],
   "source": [
    "# invoke test\n",
    "messages = [\n",
    "    SystemMessage(\n",
    "        content=\"You are a helpful assistant that translates English to Italian.\"\n",
    "    ),\n",
    "    HumanMessage(\n",
    "        content=\"Translate the following sentence from English to Italian: I love programming.\"\n",
    "    ),\n",
    "]\n",
    "llm.invoke(messages)\n",
    "\n",
    "# Chain test\n",
    "from langchain_core.prompts import ChatPromptTemplate\n",
    "\n",
    "prompt = ChatPromptTemplate(\n",
    "    [\n",
    "        (\n",
    "            \"system\",\n",
    "            \"You are a helpful assistant that translates {input_language} to {output_language}.\",\n",
    "        ),\n",
    "        (\"user\", \"{input}\"),\n",
    "    ]\n",
    ")\n",
    "\n",
    "chain = prompt | llm\n",
    "chain.invoke(\n",
    "    {\n",
    "        \"input_language\": \"English\",\n",
    "        \"output_language\": \"German\",\n",
    "        \"input\": \"I love programming.\",\n",
    "    }\n",
    ")\n",
    "\n",
    "# Tool calling test\n",
    "from langchain_core.tools import tool\n",
    "\n",
    "# 定义一个工具函数\n",
    "@tool\n",
    "def greeting(name: str) ->str : \n",
    "    ''''''\n",
    "    return f\"你好啊, {name}\"\n",
    " \n",
    "llm_with_tool = llm.bind_tools([greeting])\n",
    "resp = llm_with_tool.invoke(\"你好，我是Jean，问候一下。\")\n",
    "print(resp)"
   ]
  },
  {
   "cell_type": "code",
   "execution_count": 28,
   "id": "1f1ddef9",
   "metadata": {},
   "outputs": [],
   "source": [
    "import ast\n",
    "# x = resp.additional_kwargs\n",
    "# ast.literal_eval(x)"
   ]
  },
  {
   "cell_type": "code",
   "execution_count": 33,
   "id": "741c149f",
   "metadata": {},
   "outputs": [],
   "source": [
    "functions = {\n",
    "    \"greeting\": greeting\n",
    "}"
   ]
  },
  {
   "cell_type": "code",
   "execution_count": 30,
   "id": "0ad704c9",
   "metadata": {},
   "outputs": [
    {
     "data": {
      "text/plain": [
       "'greeting'"
      ]
     },
     "execution_count": 30,
     "metadata": {},
     "output_type": "execute_result"
    }
   ],
   "source": [
    "func_name"
   ]
  },
  {
   "cell_type": "code",
   "execution_count": 35,
   "id": "9e2e102d-6dc6-4525-8d80-231fee72e0a0",
   "metadata": {},
   "outputs": [
    {
     "data": {
      "text/plain": [
       "'你好啊, Jean'"
      ]
     },
     "execution_count": 35,
     "metadata": {},
     "output_type": "execute_result"
    }
   ],
   "source": [
    "func_name = resp.additional_kwargs['tool_calls'][0]['function']['name']\n",
    "func_args = resp.additional_kwargs['tool_calls'][0]['function']['arguments']\n",
    "functions[func_name](ast.literal_eval(func_args))"
   ]
  }
 ],
 "metadata": {
  "kernelspec": {
   "display_name": "vllm_env",
   "language": "python",
   "name": "python3"
  },
  "language_info": {
   "codemirror_mode": {
    "name": "ipython",
    "version": 3
   },
   "file_extension": ".py",
   "mimetype": "text/x-python",
   "name": "python",
   "nbconvert_exporter": "python",
   "pygments_lexer": "ipython3",
   "version": "3.9.20"
  }
 },
 "nbformat": 4,
 "nbformat_minor": 5
}
